{
 "cells": [
  {
   "cell_type": "markdown",
   "metadata": {},
   "source": [
    "### Regresión lineal a través del decenso por gradiente\n",
    "Eva Riva  \n",
    "Pablo Barrando  \n",
    "J. Paul Virueña"
   ]
  },
  {
   "cell_type": "code",
   "execution_count": 1,
   "metadata": {},
   "outputs": [],
   "source": [
    "import numpy as np\n",
    "import pandas as pd\n",
    "import matplotlib.pyplot as plt\n",
    "from sklearn.model_selection import train_test_split"
   ]
  },
  {
   "cell_type": "markdown",
   "metadata": {},
   "source": [
    "#### Creamos el dataframe de los datos y lo dividimos en conjunto de prueba y de entrenamiento"
   ]
  },
  {
   "cell_type": "code",
   "execution_count": 2,
   "metadata": {},
   "outputs": [],
   "source": [
    "df = pd.read_csv('pesos_y_alturas_v1.csv')\n",
    "train, test = train_test_split(df, test_size=0.3)"
   ]
  },
  {
   "cell_type": "code",
   "execution_count": 3,
   "metadata": {},
   "outputs": [
    {
     "data": {
      "text/plain": [
       "4729    1.653951\n",
       "1992    1.831083\n",
       "8118    1.555246\n",
       "2874    1.798810\n",
       "3296    1.654067\n",
       "          ...   \n",
       "7001    1.572927\n",
       "6940    1.585335\n",
       "7240    1.681206\n",
       "8857    1.600365\n",
       "6159    1.732561\n",
       "Name: Altura, Length: 3000, dtype: float64"
      ]
     },
     "execution_count": 3,
     "metadata": {},
     "output_type": "execute_result"
    }
   ],
   "source": [
    "test['Altura']"
   ]
  },
  {
   "cell_type": "code",
   "execution_count": 4,
   "metadata": {},
   "outputs": [
    {
     "data": {
      "text/plain": [
       "4729    69.457723\n",
       "1992    95.311532\n",
       "8118    48.122657\n",
       "2874    92.796244\n",
       "3296    70.931434\n",
       "          ...    \n",
       "7001    51.549869\n",
       "6940    62.166483\n",
       "7240    57.323325\n",
       "8857    59.596201\n",
       "6159    65.991749\n",
       "Name: Peso, Length: 3000, dtype: float64"
      ]
     },
     "execution_count": 4,
     "metadata": {},
     "output_type": "execute_result"
    }
   ],
   "source": [
    "test['Peso']"
   ]
  },
  {
   "cell_type": "code",
   "execution_count": 5,
   "metadata": {},
   "outputs": [],
   "source": [
    "def calcula_parciales(set_length,X,Y,b0,b1):\n",
    "    p0 = 0\n",
    "    p1 = 0\n",
    "    for i in range(0,set_length):\n",
    "        #aquí no es está al reveso?\n",
    "        p0 = ((b0+b1*X[i]) - Y[i]) + p0\n",
    "        p1 = ((b0+b1*X[i]) - Y[i]) * X[i] + p1\n",
    "    p0 = 1/set_length * p0\n",
    "    p1 = 1/set_length * p1\n",
    "        \n",
    "    return p0,p1"
   ]
  },
  {
   "cell_type": "code",
   "execution_count": 6,
   "metadata": {},
   "outputs": [
    {
     "name": "stdout",
     "output_type": "stream",
     "text": [
      "b1: True\n",
      "b2: False\n"
     ]
    }
   ],
   "source": [
    "sample_size = int(0.2*len(train))\n",
    "#sample_size = int(len(train))\n",
    "sample_train = train.sample(n=sample_size)\n",
    "X = sample_train['Altura'].reset_index(drop = True) \n",
    "Y = sample_train['Peso'].reset_index(drop = True)  #la que quiero predecir\n",
    "test_x = pd.DataFrame(test['Altura'])\n",
    "test_y = pd.DataFrame(test['Peso'])\n",
    "\n",
    "#Como no queremos que caiga en un ciclo infinito, asingamos una tolerancia arbitraria por ahora\n",
    "tolerancia = 1e-10\n",
    "\n",
    "# Para ayudar a disminuir ese riesgo, de la misma forma asignamos un numero máximo de iteraciones\n",
    "max_iters = 10000\n",
    "\n",
    "#Por último, asignamos otro valor arbitrario a la alfa \n",
    "alfa = 0.2\n",
    "\n",
    "\n",
    "b0= 1\n",
    "b1 = 1\n",
    "i = 0\n",
    "bandera1 = True\n",
    "bandera2 = True\n",
    "\n",
    "while bandera1 and bandera2:\n",
    "    M = len(X)\n",
    "    parcial_0, parcial_1 = calcula_parciales(M,X,Y,b0,b1)  \n",
    "    b0 = b0 - (alfa * parcial_0)\n",
    "    b1 = b1 - (alfa * parcial_1)\n",
    "    \n",
    "    T1 = abs(alfa*parcial_0)\n",
    "    T2 = abs(alfa*parcial_1)\n",
    "    \n",
    "    i+=1\n",
    "    \n",
    "    if max(T1,T2) < tolerancia:\n",
    "        bandera1 = False\n",
    "    if i>=max_iters:\n",
    "        bandera2 = False\n",
    "print('b1: '+ str(bandera1))\n",
    "print('b2: '+ str(bandera2))\n"
   ]
  },
  {
   "cell_type": "code",
   "execution_count": 7,
   "metadata": {},
   "outputs": [
    {
     "data": {
      "text/plain": [
       "(-162.60300014795564, 139.87292281954095)"
      ]
     },
     "execution_count": 7,
     "metadata": {},
     "output_type": "execute_result"
    }
   ],
   "source": [
    "b0,b1"
   ]
  },
  {
   "cell_type": "code",
   "execution_count": 8,
   "metadata": {},
   "outputs": [],
   "source": [
    "def aplica_regresion_encontrada(set_lenght,x,b0,b1):\n",
    "    y = []\n",
    "    for i in range(0, set_lenght):\n",
    "        y.append(b0 + b1*x[i])\n",
    "    return y"
   ]
  },
  {
   "cell_type": "code",
   "execution_count": 9,
   "metadata": {},
   "outputs": [],
   "source": [
    "tx = test_x.reset_index(drop=True)\n",
    "ty = test_y.reset_index(drop=True)\n",
    "pass"
   ]
  },
  {
   "cell_type": "code",
   "execution_count": 10,
   "metadata": {},
   "outputs": [
    {
     "data": {
      "text/plain": [
       "0       1.653951\n",
       "1       1.831083\n",
       "2       1.555246\n",
       "3       1.798810\n",
       "4       1.654067\n",
       "          ...   \n",
       "2995    1.572927\n",
       "2996    1.585335\n",
       "2997    1.681206\n",
       "2998    1.600365\n",
       "2999    1.732561\n",
       "Name: Altura, Length: 3000, dtype: float64"
      ]
     },
     "execution_count": 10,
     "metadata": {},
     "output_type": "execute_result"
    }
   ],
   "source": [
    "x = tx['Altura']\n",
    "x"
   ]
  },
  {
   "cell_type": "code",
   "execution_count": 11,
   "metadata": {},
   "outputs": [],
   "source": [
    "y = aplica_regresion_encontrada(len(x),x,b0,b1)"
   ]
  },
  {
   "cell_type": "code",
   "execution_count": 12,
   "metadata": {},
   "outputs": [
    {
     "data": {
      "image/png": "[encoded data removed]",
      "text/plain": [
       "<Figure size 432x288 with 1 Axes>"
      ]
     },
     "metadata": {
      "needs_background": "light"
     },
     "output_type": "display_data"
    }
   ],
   "source": [
    "plt.scatter(test['Altura'], test['Peso'])\n",
    "plt.show()"
   ]
  },
  {
   "cell_type": "code",
   "execution_count": 13,
   "metadata": {},
   "outputs": [
    {
     "data": {
      "image/png": "[encoded data removed]",
      "text/plain": [
       "<Figure size 432x288 with 1 Axes>"
      ]
     },
     "metadata": {
      "needs_background": "light"
     },
     "output_type": "display_data"
    }
   ],
   "source": [
    "plt.figure()\n",
    "plt.plot(x,y,'r')\n",
    "plt.scatter(tx['Altura'], ty['Peso'])\n",
    "plt.ylabel('Peso (kilogramos)')\n",
    "plt.xlabel('Altura (metros)')\n",
    "plt.show()\n",
    "\n"
   ]
  }
 ],
 "metadata": {
  "kernelspec": {
   "display_name": "Python 3",
   "language": "python",
   "name": "python3"
  },
  "language_info": {
   "codemirror_mode": {
    "name": "ipython",
    "version": 3
   },
   "file_extension": ".py",
   "mimetype": "text/x-python",
   "name": "python",
   "nbconvert_exporter": "python",
   "pygments_lexer": "ipython3",
   "version": "3.7.4"
  }
 },
 "nbformat": 4,
 "nbformat_minor": 4
}

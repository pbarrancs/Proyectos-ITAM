{
 "cells": [
  {
   "cell_type": "code",
   "execution_count": 154,
   "metadata": {},
   "outputs": [],
   "source": [
    "import pandas as pd\n",
    "from sklearn.model_selection import train_test_split\n",
    "import math"
   ]
  },
  {
   "cell_type": "markdown",
   "metadata": {},
   "source": [
    "## Importamos los datos y los ajustamos para tener menos variables y observaciones"
   ]
  },
  {
   "cell_type": "code",
   "execution_count": 14,
   "metadata": {},
   "outputs": [],
   "source": [
    "df = pd.read_csv('wine_quality.csv',sep=\";\")\n",
    "df.columns = [x.replace(' ','_') for x in df.columns]\n",
    "df = df[['residual_sugar','pH','fixed_acidity','quality']]\n",
    "data = df.sample(n=200).reset_index(drop=True)\n",
    "y = data.loc[:,'quality']\n",
    "X = data.drop(['quality'],axis=1)\n",
    "X_train, X_test, y_train, y_test = train_test_split(X, y, test_size=0.33, random_state=42)"
   ]
  },
  {
   "cell_type": "code",
   "execution_count": 15,
   "metadata": {},
   "outputs": [],
   "source": [
    "X_train = X_train.reset_index(drop=True)\n",
    "X_test = X_test.reset_index(drop=True)\n",
    "y_train = y_train.reset_index(drop=True)\n",
    "y_test = y_test.reset_index(drop=True)"
   ]
  },
  {
   "cell_type": "markdown",
   "metadata": {},
   "source": [
    "### Clases prestadas de CART\n",
    "##### Las siguientes clases fueron adaptadas para ser usadas con un data_frame y para un árbol de decisión de regresión"
   ]
  },
  {
   "cell_type": "code",
   "execution_count": 51,
   "metadata": {},
   "outputs": [],
   "source": [
    "def is_numeric(value):\n",
    "    \"\"\"Test if a value is numeric.\"\"\"\n",
    "    return isinstance(value, int) or isinstance(value, float)\n",
    "\n",
    "class Question:\n",
    "    \"\"\"A Question is used to partition a dataset.\n",
    "\n",
    "    This class just records a 'column number' (e.g., 0 for Color) and a\n",
    "    'column value' (e.g., Green). The 'match' method is used to compare\n",
    "    the feature value in an example to the feature value stored in the\n",
    "    question. See the demo below.\n",
    "    \"\"\"\n",
    "\n",
    "    def __init__(self, column, value):\n",
    "        self.column = column\n",
    "        self.value = value\n",
    "\n",
    "    def match(self, example):\n",
    "        # Compare the feature value in an example to the\n",
    "        # feature value in this question.\n",
    "        val = example[self.column]\n",
    "        if is_numeric(val):\n",
    "            return val >= self.value\n",
    "        else:\n",
    "            return val == self.value\n",
    "\n",
    "    def __repr__(self):\n",
    "        # This is just a helper method to print\n",
    "        # the question in a readable format.\n",
    "        condition = \"==\"\n",
    "        if is_numeric(self.value):\n",
    "            condition = \">=\"\n",
    "        return \"Is %s %s %s?\" % (\n",
    "            self.column, condition, str(self.value))"
   ]
  },
  {
   "cell_type": "code",
   "execution_count": 89,
   "metadata": {},
   "outputs": [],
   "source": [
    "class Decision_Node:\n",
    "    \"\"\"A Decision Node asks a question.\n",
    "\n",
    "    This holds a reference to the question, and to the two child nodes.\n",
    "    \"\"\"\n",
    "\n",
    "    def __init__(self,\n",
    "                 question,\n",
    "                 true_branch,\n",
    "                 false_branch):\n",
    "        self.question = question\n",
    "        self.true_branch = true_branch\n",
    "        self.false_branch = false_branch"
   ]
  },
  {
   "cell_type": "code",
   "execution_count": 106,
   "metadata": {},
   "outputs": [],
   "source": [
    "class Leaf:\n",
    "    \"\"\"A Leaf node classifies data.\n",
    "\n",
    "    This holds a dictionary of class (e.g., \"Apple\") -> number of times\n",
    "    it appears in the rows from the training data that reach this leaf.\n",
    "    \"\"\"\n",
    "\n",
    "    def __init__(self, rows,y_train):\n",
    "        self.average = self.calculate_mean(rows,y_train)\n",
    "        \n",
    "    def calculate_mean(self,rows,y_train):\n",
    "        sum_acc = 0\n",
    "        n = len(rows)\n",
    "        for i in rows:\n",
    "            sum_acc += y_train[i]\n",
    "            \n",
    "        return sum_acc/n"
   ]
  },
  {
   "cell_type": "markdown",
   "metadata": {},
   "source": [
    "#### Clase Decision_Tree\n",
    "##### Se tomaron los componentes de CART como partition, find_best_split y build_tree pero fueron adaptadas para un árbol de decisión de regresión además de compactadas en una sola clase para mejor implementación. En lugar del coeficiente gini, se utiliza el Sum of Squared Errors para determinar qué partición es la mejor (Menor SSE) por lo cual se encuentra también implementada SSE."
   ]
  },
  {
   "cell_type": "code",
   "execution_count": 160,
   "metadata": {},
   "outputs": [],
   "source": [
    "class Decision_Tree:\n",
    "    def __init__(self,X_train,y_train,min_split):\n",
    "        self.x_train = X_train\n",
    "        self.y_train = y_train\n",
    "        self.root = None\n",
    "        self.min_split = min_split\n",
    "        self.features = X_train.columns\n",
    "        \n",
    "    \n",
    "    def partition(self,question,rows):\n",
    "        \"\"\"Partitions a dataset.\n",
    "\n",
    "        For each row in the dataset, check if it matches the question. If\n",
    "        so, add it to 'true rows', otherwise, add it to 'false rows'.\n",
    "        \"\"\"\n",
    "        true_rows, false_rows = [], []\n",
    "     \n",
    "        for row in rows:\n",
    "            observation = self.x_train.loc[row]\n",
    "            #print(observation)\n",
    "            if question.match(observation):\n",
    "                true_rows.append(row)\n",
    "            else:\n",
    "                false_rows.append(row)\n",
    "   \n",
    "        return true_rows, false_rows\n",
    "    \n",
    "    def find_best_split(self,rows):\n",
    "        \"\"\"Find the best question to ask by iterating over every feature / value\n",
    "        and calculating the information gain.\"\"\"\n",
    "        least_loss = 100000000000000  # keep track of the best information gain\n",
    "        best_question = None  # keep train of the feature / value that produced it\n",
    "        #n_features = len(rows[0]) - 1  # number of columns\n",
    "\n",
    "        for col in self.features:  # for each feature\n",
    "\n",
    "            values = set([self.x_train.loc[row][col] for row in rows])  # unique values in the column\n",
    "\n",
    "            for val in values:  # for each value\n",
    "\n",
    "                question = Question(col, val)\n",
    "                \n",
    "                # try splitting the dataset\n",
    "                true_rows, false_rows = self.partition(question,rows)\n",
    "\n",
    "                # Skip this split if it doesn't divide the\n",
    "                # dataset.\n",
    "                if len(true_rows) == 0 or len(false_rows) == 0:\n",
    "                    continue\n",
    "\n",
    "                # Calculate the information gain from this split\n",
    "                loss = self.SSE(true_rows, false_rows)\n",
    "                #print(loss)\n",
    "                # You actually can use '>' instead of '>=' here\n",
    "                # but I wanted the tree to look a certain way for our\n",
    "                # toy dataset.\n",
    "                if loss <= least_loss:\n",
    "                    least_loss, best_question = loss, question\n",
    "\n",
    "        return least_loss, best_question\n",
    "    \n",
    "    def SSE(self,true_rows,false_rows): #recibe numero de row\n",
    "        mean_right = self.row_average(true_rows)\n",
    "        #print(mean_right)\n",
    "        mean_left = self.row_average(false_rows)\n",
    "        #print(mean_left)\n",
    "        ssr = self.sum_squared(true_rows,mean_right)\n",
    "        ssl = self.sum_squared(false_rows,mean_left)\n",
    "        return ssr+ssl\n",
    "\n",
    "    def sum_squared(self,rows,mean):\n",
    "        sum_acc = 0\n",
    "        for i in rows:\n",
    "            real = self.y_train[i]\n",
    "            sum_acc += (real-mean)**2\n",
    "        return sum_acc\n",
    "\n",
    "    def row_average(self,rows):\n",
    "        acc_sum = 0\n",
    "        n = len(rows)\n",
    "        for i in rows:\n",
    "            acc_sum += self.y_train[i]\n",
    "        return acc_sum/n\n",
    "    \n",
    "    def train(self):\n",
    "        rows = list(range(0,self.x_train.shape[0]))\n",
    "        self.root = self.build_tree(rows)\n",
    "        \n",
    "        \n",
    "        \n",
    "    def build_tree(self,rows):\n",
    "        loss, question = self.find_best_split(rows)\n",
    "        #print(question)\n",
    "        # Base case: no further info gain\n",
    "        # Since we can ask no further questions,\n",
    "        # we'll return a leaf.\n",
    "        #print(question)\n",
    "        if len(rows)<self.min_split: #si hay muy pocas rows de este lado para dividir ya no lo divido y hago mayoría de votos\n",
    "            return Leaf(rows,self.y_train)\n",
    "\n",
    "        # If we reach here, we have found a useful feature / value\n",
    "        # to partition on.\n",
    "        true_rows, false_rows = self.partition(question,rows)\n",
    "\n",
    "        # Recursively build the true branch.\n",
    "        true_branch = self.build_tree(true_rows)\n",
    "\n",
    "        # Recursively build the false branch.\n",
    "        false_branch = self.build_tree(false_rows)\n",
    "\n",
    "        # Return a Question node.\n",
    "        # This records the best feature / value to ask at this point,\n",
    "        # as well as the branches to follow\n",
    "        # dependingo on the answer.\n",
    "        return Decision_Node(question, true_branch, false_branch)\n",
    "    \n",
    "    def print_tree(self):\n",
    "        self.__print_tree(self.root)\n",
    "    \n",
    "    def __print_tree(self,node, spacing=\"\"):\n",
    "        \"\"\"World's most elegant tree printing function.\"\"\"\n",
    "\n",
    "        # Base case: we've reached a leaf\n",
    "        if isinstance(node, Leaf):\n",
    "            print (spacing + \"Predict\", node.average)\n",
    "            return\n",
    "\n",
    "        # Print the question at this node\n",
    "        print (spacing + str(node.question))\n",
    "\n",
    "        # Call this function recursively on the true branch\n",
    "        print (spacing + '--> True:')\n",
    "        self.__print_tree(node.true_branch, spacing + \"  \")\n",
    "\n",
    "        # Call this function recursively on the false branch\n",
    "        print (spacing + '--> False:')\n",
    "        self.__print_tree(node.false_branch, spacing + \"  \")\n",
    "    \n",
    "    def predict(self,row, node):\n",
    "        \"\"\"See the 'rules of recursion' above.\"\"\"\n",
    "\n",
    "        # Base case: we've reached a leaf\n",
    "        if isinstance(node, Leaf):\n",
    "            return node.average\n",
    "\n",
    "        # Decide whether to follow the true-branch or the false-branch.\n",
    "        # Compare the feature / value stored in the node,\n",
    "        # to the example we're considering.\n",
    "        if node.question.match(row):\n",
    "            return self.predict(row, node.true_branch)\n",
    "        else:\n",
    "            return self.predict(row, node.false_branch)\n",
    "        \n",
    "    def test_tree(self,x_test,y_test):\n",
    "        y_pred = []\n",
    "        n = x_test.shape[0]\n",
    "        node = dt.root\n",
    "        sum_acc_mae = 0\n",
    "        sum_acc_rmse = 0\n",
    "        for i in range(0,n):\n",
    "            x = x_test.iloc[i]\n",
    "            predicted_value = self.predict(x,node)\n",
    "            y_pred.append(predicted_value)\n",
    "            y_real = y_test[i]\n",
    "            diff = (y_real-predicted_value)\n",
    "            sum_acc_mae += abs(diff)\n",
    "            sum_acc_rmse += diff**2\n",
    "            \n",
    "        RMSE = math.sqrt(sum_acc_rmse/n)  \n",
    "        MAE = sum_acc_mae/n\n",
    "        return y_pred,MAE,RMSE\n",
    "        \n",
    "        \n",
    "        \n",
    "    "
   ]
  },
  {
   "cell_type": "markdown",
   "metadata": {},
   "source": [
    "### Implementación"
   ]
  },
  {
   "cell_type": "code",
   "execution_count": 162,
   "metadata": {},
   "outputs": [],
   "source": [
    "dt = Decision_Tree(X_train,y_train,10) #creamos un nuevo árbol con X_Train, y_train y min_split = 10. min_split se puede variar para compensar bias y variance\n",
    "# un menor min_split implica más variance mientras un mayor min_split más bias\n",
    "dt.train()"
   ]
  },
  {
   "cell_type": "markdown",
   "metadata": {},
   "source": [
    "#### Probamos el árbol con el set de prueba para ver su MAE y su RMSE"
   ]
  },
  {
   "cell_type": "code",
   "execution_count": 163,
   "metadata": {},
   "outputs": [],
   "source": [
    "y_pred,MAE,RMSE = dt.test_tree(X_test,y_test)"
   ]
  },
  {
   "cell_type": "code",
   "execution_count": 164,
   "metadata": {},
   "outputs": [
    {
     "data": {
      "text/plain": [
       "0.8296115921115917"
      ]
     },
     "execution_count": 164,
     "metadata": {},
     "output_type": "execute_result"
    }
   ],
   "source": [
    "MAE"
   ]
  },
  {
   "cell_type": "code",
   "execution_count": 165,
   "metadata": {},
   "outputs": [
    {
     "data": {
      "text/plain": [
       "1.0059723785620711"
      ]
     },
     "execution_count": 165,
     "metadata": {},
     "output_type": "execute_result"
    }
   ],
   "source": [
    "RMSE"
   ]
  },
  {
   "cell_type": "markdown",
   "metadata": {},
   "source": [
    "##### Podemos notar que son muy buenas ambas métricas ya que son muy pequeñas."
   ]
  },
  {
   "cell_type": "code",
   "execution_count": null,
   "metadata": {},
   "outputs": [],
   "source": []
  }
 ],
 "metadata": {
  "kernelspec": {
   "display_name": "Python 3",
   "language": "python",
   "name": "python3"
  },
  "language_info": {
   "codemirror_mode": {
    "name": "ipython",
    "version": 3
   },
   "file_extension": ".py",
   "mimetype": "text/x-python",
   "name": "python",
   "nbconvert_exporter": "python",
   "pygments_lexer": "ipython3",
   "version": "3.7.6"
  }
 },
 "nbformat": 4,
 "nbformat_minor": 4
}

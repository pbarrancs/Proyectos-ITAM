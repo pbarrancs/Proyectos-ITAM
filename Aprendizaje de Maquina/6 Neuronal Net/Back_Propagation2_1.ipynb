{
 "cells": [
  {
   "cell_type": "code",
   "execution_count": 2,
   "metadata": {},
   "outputs": [],
   "source": [
    "import numpy as np\n",
    "import matplotlib.pyplot as plt\n",
    "import math\n",
    "import copy\n",
    "import random \n",
    "from sklearn.model_selection import train_test_split"
   ]
  },
  {
   "cell_type": "code",
   "execution_count": 3,
   "metadata": {},
   "outputs": [],
   "source": [
    "rng = np.random.RandomState(54321)\n",
    "np.random.seed(54321)\n",
    "\n",
    "x_data = rng.uniform(-10,10,200) + rng.randn(200)\n",
    "y_data = x_data*x_data\n",
    "\n",
    "x_data=x_data[:, np.newaxis]\n",
    "y_data=y_data[:, np.newaxis]\n",
    "\n",
    "\n",
    "data = np.concatenate((x_data, y_data), axis=1)\n",
    "train, test = train_test_split(data, test_size=0.1)"
   ]
  },
  {
   "cell_type": "code",
   "execution_count": 4,
   "metadata": {},
   "outputs": [],
   "source": [
    "\n",
    "class Network(object):\n",
    "\n",
    "    def __init__(self, sizes):\n",
    "        self.num_layers = len(sizes) #numero de capas\n",
    "        self.sizes = sizes #arreglo con numero de neuronas por capa\n",
    "        self.biases = [np.random.randn(y, 1) for y in sizes[1:]] #inicializamos b's aleatoriamente\n",
    "        self.weights = [np.random.randn(y, x) for x, y in zip(sizes[:-1], sizes[1:])]# inicializamos w's aleatoriamente\n",
    "\n",
    "    def feedforward(self, a):\n",
    "        \"\"\"Regresa vector de activaciones \"a\".\"\"\"\n",
    "        layer = 0\n",
    "        for b, w in zip(self.biases, self.weights):\n",
    "            layer += 1\n",
    "            z = np.dot(w, a)+b\n",
    "            if (layer + 1 == self.num_layers):\n",
    "                a = lin(z)\n",
    "            else:\n",
    "                a = sigmoid(z)\n",
    "        return a\n",
    "        \n",
    "\n",
    "    def SGD(self, training_data, epochs, mini_batch_size, alpha):\n",
    "        \"\"\"Entrena la red neuronal usando decenso por gradiente estocastico con mini-batch\n",
    "            training_data es una lista con pares \"(x,y)\" representando el conjunto de entrenamiento.\"\"\"\n",
    "        n = len(training_data)\n",
    "        for j in range(epochs):\n",
    "            np.random.shuffle(training_data) \n",
    "            mini_batches = [training_data[k:k+mini_batch_size] for k in range(0, n, mini_batch_size)] # crea lista de mini_batches\n",
    "            for mini_batch in mini_batches:\n",
    "                self.update_mini_batch(mini_batch, alpha)\n",
    "            print (\"Epoch {0} completada\".format(j+1))\n",
    "\n",
    "    def update_mini_batch(self, mini_batch, alpha):\n",
    "        \"\"\"Actualiza los biases(b's) y los pesos (w´s) de la red neuronal, con\n",
    "           gradiente estocastigo usando backpropagation en cada minibatch.\n",
    "        Minibatch es una lista con pares (x, y), and alpha es la taza de aprendizaje.\"\"\"  \n",
    "        nabla_b = [np.zeros(b.shape) for b in self.biases] #Vector de ceros para actualizar b's\n",
    "        nabla_w = [np.zeros(w.shape) for w in self.weights] #Vector de ceros para actualizar w's\n",
    "        for x, y in mini_batch: #Actualizamos b's y w's.\n",
    "            delta_nabla_b, delta_nabla_w = self.backprop(x, y) #llamamos backpropagation\n",
    "            #Actualizamos b's y w's.\n",
    "            nabla_b = [nb+dnb for nb, dnb in zip(nabla_b, delta_nabla_b)]\n",
    "            nabla_w = [nw+dnw for nw, dnw in zip(nabla_w, delta_nabla_w)]\n",
    "        self.weights = [w-(alpha/len(mini_batch))*nw\n",
    "                        for w, nw in zip(self.weights, nabla_w)]\n",
    "        self.biases = [b-(alpha/len(mini_batch))*nb\n",
    "                       for b, nb in zip(self.biases, nabla_b)]\n",
    "\n",
    "    def backprop(self, x, y):\n",
    "        \"\"\"Regresa una tupla(nabla_b, nabla_w) representando el \n",
    "        gradiente para la funcion de costos. nabla_b y\n",
    "        nabla_w son capa por capa listas de arreglos, similares a \n",
    "        self.biases y self.weights.\"\"\"\n",
    "        nabla_b = [np.zeros(b.shape) for b in self.biases] #lista con arreglos de ceros\n",
    "        nabla_w = [np.zeros(w.shape) for w in self.weights] #lita con arreglos de ceros\n",
    "        # feedforward\n",
    "        activation = x\n",
    "        activations = [x] # lista que almacena las activaciones de cada capa\n",
    "        zs = [] # list que almacena todos los vectores z vector de cada apa\n",
    "        layer = 0\n",
    "        for b, w in zip(self.biases, self.weights):\n",
    "            layer = layer + 1\n",
    "            z = np.dot(w, activation)+b\n",
    "            zs.append(z)\n",
    "            if (layer + 1 == self.num_layers):\n",
    "                activation = lin(z)\n",
    "            else:\n",
    "                activation = sigmoid(z)\n",
    "            activations.append(activation)\n",
    "        # backward pass\n",
    "        delta = self.cost_derivative(activations[-1], y)\n",
    "             # multiplicado por la derivada de nuestra funcion en la ultima capa que en este caso es uno \n",
    "        nabla_b[-1] = delta\n",
    "        nabla_w[-1] = np.dot(delta, activations[-2].transpose())\n",
    "        #Recorremos las capas de atras hacia adelante. Donde l = 1 quiere decir la ultima capa.\n",
    "        for l in range(2, self.num_layers):\n",
    "            z = zs[-l]\n",
    "            sp = sigmoid_prime(z)\n",
    "            delta = np.dot(self.weights[-l+1].transpose(), delta) * sp\n",
    "            nabla_b[-l] = delta\n",
    "            nabla_w[-l] = np.dot(delta, activations[-l-1].transpose())\n",
    "        return (nabla_b, nabla_w)\n",
    "\n",
    "    def cost_derivative(self, output_activations, y):\n",
    "        \"\"\"Regresa la derivada parcial del Error cuadtratico medio.\"\"\"\n",
    "        return (output_activations-y)\n",
    "\n",
    "#### Funciones que utilizamos\n",
    "def sigmoid(z):\n",
    "    \"\"\"The sigmoid function.\"\"\"\n",
    "    return 1.0/(1.0+np.exp(-z))\n",
    "\n",
    "def sigmoid_prime(z):\n",
    "    \"\"\"Derivative of the sigmoid function.\"\"\"\n",
    "    return sigmoid(z)*(1-sigmoid(z))\n",
    "\n",
    "def lin(z):\n",
    "    \"\"\"La funcion identidad.\"\"\"\n",
    "    return z\n",
    "\n",
    "def lin_prime(z):\n",
    "    \"\"\"Derivada de la Funcion identidad.\"\"\"\n",
    "    return 1\n"
   ]
  },
  {
   "cell_type": "code",
   "execution_count": 5,
   "metadata": {
    "scrolled": true
   },
   "outputs": [
    {
     "name": "stdout",
     "output_type": "stream",
     "text": [
      "Epoch 1 completada\n",
      "Epoch 2 completada\n",
      "Epoch 3 completada\n",
      "Epoch 4 completada\n",
      "Epoch 5 completada\n",
      "Epoch 6 completada\n",
      "Epoch 7 completada\n",
      "Epoch 8 completada\n",
      "Epoch 9 completada\n",
      "Epoch 10 completada\n"
     ]
    }
   ],
   "source": [
    "net = Network([1,6,1])\n",
    "net.SGD(train,10, 10,3)"
   ]
  },
  {
   "cell_type": "code",
   "execution_count": 17,
   "metadata": {
    "scrolled": true
   },
   "outputs": [
    {
     "data": {
      "text/plain": [
       "array([-2.69977836e+146, -7.05329105e+146, -2.69977836e+146,\n",
       "       -7.05329105e+146, -2.69977836e+146, -7.05329105e+146,\n",
       "       -7.05329105e+146, -2.69977836e+146, -7.05329105e+146,\n",
       "       -7.05329105e+146, -7.05329105e+146, -7.05329105e+146,\n",
       "       -7.05329105e+146, -2.69977836e+146, -2.69977836e+146,\n",
       "       -2.69977836e+146, -7.05329105e+146, -7.05329105e+146,\n",
       "       -2.69977836e+146, -2.69977836e+146])"
      ]
     },
     "execution_count": 17,
     "metadata": {},
     "output_type": "execute_result"
    }
   ],
   "source": [
    "x = np.zeros(len(test))\n",
    "for i in range(0,len(test)):\n",
    "    x[i] = (net.feedforward(test[i,0]))\n",
    "x"
   ]
  }
 ],
 "metadata": {
  "kernelspec": {
   "display_name": "Python 3",
   "language": "python",
   "name": "python3"
  },
  "language_info": {
   "codemirror_mode": {
    "name": "ipython",
    "version": 3
   },
   "file_extension": ".py",
   "mimetype": "text/x-python",
   "name": "python",
   "nbconvert_exporter": "python",
   "pygments_lexer": "ipython3",
   "version": "3.7.4"
  }
 },
 "nbformat": 4,
 "nbformat_minor": 2
}

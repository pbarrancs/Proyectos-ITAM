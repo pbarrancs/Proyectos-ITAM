{
 "cells": [
  {
   "cell_type": "markdown",
   "metadata": {},
   "source": [
    "# Tarea 3 de Aprendizaje de máquina\n",
    "Eva Rivarola\n",
    "Pablo Barranco\n",
    "J. Paul Virueña"
   ]
  },
  {
   "cell_type": "markdown",
   "metadata": {},
   "source": [
    "#### Importamos librerías"
   ]
  },
  {
   "cell_type": "code",
   "execution_count": 69,
   "metadata": {},
   "outputs": [],
   "source": [
    "# Import data\n",
    "import warnings\n",
    "warnings.simplefilter('ignore')\n",
    "import tensorflow as tf\n",
    "import matplotlib.pyplot as plt\n",
    "import pandas as pd\n",
    "\n",
    "from sklearn.model_selection import train_test_split\n",
    "\n",
    "FLAGS = None\n",
    "# Sólo informe sobre errores\n",
    "tf.logging.set_verbosity(tf.logging.ERROR)\n",
    "\n",
    "%matplotlib inline"
   ]
  },
  {
   "cell_type": "code",
   "execution_count": 70,
   "metadata": {},
   "outputs": [],
   "source": [
    "import numpy as np"
   ]
  },
  {
   "cell_type": "markdown",
   "metadata": {},
   "source": [
    "Importamos el data set."
   ]
  },
  {
   "cell_type": "code",
   "execution_count": 71,
   "metadata": {
    "scrolled": true
   },
   "outputs": [],
   "source": [
    "dataset = pd.read_csv(\"wdbc.data\", header = None).drop(columns=[0])"
   ]
  },
  {
   "cell_type": "code",
   "execution_count": 72,
   "metadata": {},
   "outputs": [],
   "source": [
    "def one_hot(row):\n",
    "    return 1 if row=='M' else 0\n",
    "\n",
    "dataset[1] = dataset[1].apply(one_hot)"
   ]
  },
  {
   "cell_type": "markdown",
   "metadata": {},
   "source": [
    "Ahora limpiamos los datos. Como no nos prove informacion la columna de ID, la quitaremos y la variable Diagnostico correspondiente a la columna 1, la cambiaremos de categorica a binaria.Cero si es benigno \"B\", uno en caso contrario \"M\".."
   ]
  },
  {
   "cell_type": "markdown",
   "metadata": {},
   "source": [
    "Ahora separamos nuestro conjunto de entrenamiento 80% del de prueba 20%."
   ]
  },
  {
   "cell_type": "code",
   "execution_count": 73,
   "metadata": {},
   "outputs": [],
   "source": [
    "#print(len(train), 'train examples')\n",
    "#print(len(test), 'test examples')\n",
    "train_set, test = train_test_split(dataset, test_size=0.2)\n",
    "train_set = train_set.reset_index().drop(columns=['index'])\n",
    "test = test.reset_index().drop(columns=['index'])\n",
    "y_train = train_set[1].to_numpy()\n",
    "x_train = train_set.drop(columns=[1]).to_numpy()\n",
    "x_test = test.drop(columns = [1]).to_numpy()\n",
    "y_test = test[1].to_numpy()"
   ]
  },
  {
   "cell_type": "markdown",
   "metadata": {},
   "source": [
    "Definimos las variables y placeholders de nuestra modelo."
   ]
  },
  {
   "cell_type": "code",
   "execution_count": 74,
   "metadata": {},
   "outputs": [],
   "source": [
    "data = tf.placeholder(tf.float32, [None, 30]) \n",
    "A = tf.Variable(tf.zeros([30, 1])) \n",
    "b = tf.Variable(tf.zeros([1]))\n",
    "mod = tf.matmul(data, A) + b\n",
    "target = tf.placeholder(tf.float32, [None, 1])\n",
    "init = tf.global_variables_initializer()\n",
    "loss = tf.reduce_mean(tf.nn.sigmoid_cross_entropy_with_logits(logits=mod, labels=target))"
   ]
  },
  {
   "cell_type": "markdown",
   "metadata": {},
   "source": [
    "Entrenamos el modelo"
   ]
  },
  {
   "cell_type": "code",
   "execution_count": 75,
   "metadata": {},
   "outputs": [],
   "source": [
    "session = tf.Session()\n",
    "session.run(init)"
   ]
  },
  {
   "cell_type": "code",
   "execution_count": 76,
   "metadata": {},
   "outputs": [],
   "source": [
    "learning_rate = 0.2\n",
    "batch_size = 100\n",
    "max_iters = 1500\n",
    "goal = tf.train.GradientDescentOptimizer(learning_rate).minimize(loss)"
   ]
  },
  {
   "cell_type": "code",
   "execution_count": 77,
   "metadata": {},
   "outputs": [],
   "source": [
    "prediction = tf.round(tf.sigmoid(mod))\n",
    "correct = tf.cast(tf.equal(prediction,target),dtype=tf.float32)\n",
    "accuracy = tf.reduce_mean(correct)"
   ]
  },
  {
   "cell_type": "code",
   "execution_count": 78,
   "metadata": {},
   "outputs": [],
   "source": [
    "loss_trace = []\n",
    "train_accuracy = []\n",
    "test_accuracy = []"
   ]
  },
  {
   "cell_type": "code",
   "execution_count": 79,
   "metadata": {},
   "outputs": [
    {
     "name": "stdout",
     "output_type": "stream",
     "text": [
      "i:  300 loss: 1570.629028 train_acc: 0.903297 test_acc: 0.903509\n",
      "i:  600 loss: 527.271545 train_acc: 0.916484 test_acc: 0.912281\n",
      "i:  900 loss: 278.258392 train_acc: 0.923077 test_acc: 0.903509\n",
      "i: 1200 loss: 1417.775879 train_acc: 0.857143 test_acc: 0.842105\n",
      "i: 1500 loss: 1085.970581 train_acc: 0.920879 test_acc: 0.912281\n"
     ]
    }
   ],
   "source": [
    "for i in range(max_iters):\n",
    "    bi = np.random.choice(len(x_train),size= batch_size)\n",
    "    btx = x_train[bi]\n",
    "    bty = np.matrix(y_train[bi]).T\n",
    "    d = {data: btx, target:bty}\n",
    "\n",
    "    session.run(goal,feed_dict=d)\n",
    "    temp_loss = session.run(loss,feed_dict=d)\n",
    "\n",
    "    temp_train_acc = session.run(accuracy,feed_dict={data:x_train, target:np.matrix(y_train).T})\n",
    "    temp_test_acc = session.run(accuracy,feed_dict={data:x_test, target:np.matrix(y_test).T})\n",
    "    loss_trace.append(temp_loss)\n",
    "    train_accuracy.append(temp_train_acc)\n",
    "    test_accuracy.append(temp_test_acc)\n",
    "    if (i + 1) % 300 == 0:\n",
    "        print('i: {:4d} loss: {:5f} train_acc: {:5f} test_acc: {:5f}'.format(i + 1, temp_loss,\n",
    "                                                                          temp_train_acc, temp_test_acc))\n"
   ]
  },
  {
   "cell_type": "code",
   "execution_count": 80,
   "metadata": {},
   "outputs": [
    {
     "name": "stdout",
     "output_type": "stream",
     "text": [
      "0.9122807\n"
     ]
    }
   ],
   "source": [
    "# Test trained model\n",
    "correct_prediction = tf.equal(mod, target) \n",
    "accuracy = tf.reduce_mean(correct) \n",
    "print(session.run(accuracy, feed_dict={data:x_test, target:np.matrix(y_test).T})) "
   ]
  },
  {
   "cell_type": "markdown",
   "metadata": {},
   "source": [
    "### Conclsusiones\n",
    "El modelo predice con una certidumbre del 92%"
   ]
  }
 ],
 "metadata": {
  "kernelspec": {
   "display_name": "Python 3",
   "language": "python",
   "name": "python3"
  },
  "language_info": {
   "codemirror_mode": {
    "name": "ipython",
    "version": 3
   },
   "file_extension": ".py",
   "mimetype": "text/x-python",
   "name": "python",
   "nbconvert_exporter": "python",
   "pygments_lexer": "ipython3",
   "version": "3.7.4"
  }
 },
 "nbformat": 4,
 "nbformat_minor": 4
}

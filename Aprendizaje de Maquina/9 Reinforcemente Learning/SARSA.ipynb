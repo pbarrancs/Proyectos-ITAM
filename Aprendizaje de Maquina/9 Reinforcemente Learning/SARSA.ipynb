{
 "cells": [
  {
   "cell_type": "code",
   "execution_count": 99,
   "metadata": {},
   "outputs": [],
   "source": [
    "import gym\n",
    "import matplotlib.pyplot as plt\n",
    "import numpy as np\n",
    "import random\n",
    "import sys\n",
    "\n",
    "from collections import defaultdict\n",
    "\n",
    "%matplotlib inline\n",
    "\n",
    "env = gym.make('Blackjack-v0')"
   ]
  },
  {
   "cell_type": "code",
   "execution_count": 100,
   "metadata": {},
   "outputs": [],
   "source": [
    "def muestrea_politica(Q, estado,epsilon):\n",
    "    if random.random() < epsilon: \n",
    "        accion = env.action_space.sample()\n",
    "    else:\n",
    "        if Q[estado,1]>Q[estado,0]: accion = 1\n",
    "        else: accion = 0\n",
    "            \n",
    "    return accion"
   ]
  },
  {
   "cell_type": "code",
   "execution_count": 101,
   "metadata": {},
   "outputs": [],
   "source": [
    "def inicializa_Q():\n",
    "    estados = list()\n",
    "    for mis_puntos in range(11,22):\n",
    "        for sus_puntos in range(1,11):\n",
    "            for utilizable in range(0,2):\n",
    "                estados.append((mis_puntos,sus_puntos,utilizable))\n",
    "\n",
    "    M = {}\n",
    "    for estado in estados:\n",
    "        mis_puntos, puntos_del_repartidor, as_utilizable = estado\n",
    "        if (mis_puntos < 20):\n",
    "            M[(estado,0)] = -0.001\n",
    "            M[(estado,1)] = 0.001   # favorece pedir\n",
    "        else:\n",
    "            M[(estado,0)] = 0.001  # favorece quedarse\n",
    "            M[(estado,1)] = -0.001\n",
    "    return M"
   ]
  },
  {
   "cell_type": "code",
   "execution_count": null,
   "metadata": {},
   "outputs": [],
   "source": [
    "key = ''\n"
   ]
  },
  {
   "cell_type": "code",
   "execution_count": 115,
   "metadata": {},
   "outputs": [],
   "source": [
    "def sarsa(ambiente, num_episodios, gama,wins_loses):\n",
    "\n",
    "    lr = 0.8\n",
    "    cuenta_retornos = defaultdict(float)\n",
    "    \n",
    "    Q = inicializa_Q()\n",
    "    \n",
    "    for i in range(0, num_episodios+1):\n",
    "        \n",
    "        if i%100000==0 and i>0: print(\"Núm. episodios: \"+str(i))\n",
    "        \n",
    "        lista_estados_accion = list()\n",
    "        \n",
    "        estado = env.reset()\n",
    "        mis_puntos, _, as_utilizable = estado \n",
    "        valor = mis_puntos if as_utilizable==0 else mis_puntos+10\n",
    "\n",
    "        while valor < 12: #mientras no llegue a 12, sigo pidiendo cartas\n",
    "            estado, recompenza, termino, _ = env.step(1)\n",
    "            mis_puntos, _, as_utilizable = estado \n",
    "            valor = mis_puntos if as_utilizable==0 else mis_puntos+10\n",
    "\n",
    "        \n",
    "        accion = np.argmax(np.array([Q[estado,1],Q[estado,0]]) + np.random.randn(1,env.action_space.n)*(1./(i+1)))\n",
    "        #utilizando epsilon greedy elegimos accion     \n",
    "\n",
    "        lista_estados_accion.append((estado,accion)) \n",
    "        s1, recompenza, termino, _ = env.step(accion)\n",
    "        # elegimos s' \n",
    "        while not termino:\n",
    "            #Actualizamos en cada episodio\n",
    "            a1 = np.argmax(np.array([Q[s1,1],Q[s1,0]]) + np.random.randn(1,env.action_space.n)*(1./(i+1))) #elegimos a' utilizando s'\n",
    "            Q[estado,accion] = Q[estado,accion] + lr*(recompenza + gama*Q[s1,a1] - Q[estado,accion]) #actualizamos valor del estado y la acción\n",
    "            estado = s1\n",
    "            accion = a1\n",
    "            lista_estados_accion.append((estado,accion))   \n",
    "            s1, recompenza, termino, _ = env.step(accion) \n",
    "        wins_loses['total'] +=1\n",
    "\n",
    "        key = 'win' if recompenza> 0 else 'lose'\n",
    "        wins_loses[key]+=1\n",
    "                            \n",
    "    return Q"
   ]
  },
  {
   "cell_type": "code",
   "execution_count": 116,
   "metadata": {},
   "outputs": [
    {
     "name": "stdout",
     "output_type": "stream",
     "text": [
      "Núm. episodios: 100000\n",
      "Núm. episodios: 200000\n",
      "Núm. episodios: 300000\n",
      "Núm. episodios: 400000\n",
      "Núm. episodios: 500000\n",
      "Núm. episodios: 600000\n",
      "Núm. episodios: 700000\n",
      "Núm. episodios: 800000\n",
      "Núm. episodios: 900000\n",
      "Núm. episodios: 1000000\n",
      "Núm. episodios: 1100000\n",
      "Núm. episodios: 1200000\n",
      "Núm. episodios: 1300000\n",
      "Núm. episodios: 1400000\n",
      "Núm. episodios: 1500000\n",
      "Núm. episodios: 1600000\n",
      "Núm. episodios: 1700000\n",
      "Núm. episodios: 1800000\n",
      "Núm. episodios: 1900000\n",
      "Núm. episodios: 2000000\n",
      "Núm. episodios: 2100000\n",
      "Núm. episodios: 2200000\n",
      "Núm. episodios: 2300000\n",
      "Núm. episodios: 2400000\n",
      "Núm. episodios: 2500000\n",
      "Núm. episodios: 2600000\n",
      "Núm. episodios: 2700000\n",
      "Núm. episodios: 2800000\n",
      "Núm. episodios: 2900000\n",
      "Núm. episodios: 3000000\n",
      "Núm. episodios: 3100000\n",
      "Núm. episodios: 3200000\n",
      "Núm. episodios: 3300000\n",
      "Núm. episodios: 3400000\n",
      "Núm. episodios: 3500000\n",
      "Núm. episodios: 3600000\n",
      "Núm. episodios: 3700000\n",
      "Núm. episodios: 3800000\n",
      "Núm. episodios: 3900000\n",
      "Núm. episodios: 4000000\n",
      "Núm. episodios: 4100000\n",
      "Núm. episodios: 4200000\n",
      "Núm. episodios: 4300000\n",
      "Núm. episodios: 4400000\n",
      "Núm. episodios: 4500000\n",
      "Núm. episodios: 4600000\n",
      "Núm. episodios: 4700000\n",
      "Núm. episodios: 4800000\n",
      "Núm. episodios: 4900000\n",
      "Núm. episodios: 5000000\n",
      "Núm. episodios: 5100000\n",
      "Núm. episodios: 5200000\n",
      "Núm. episodios: 5300000\n",
      "Núm. episodios: 5400000\n",
      "Núm. episodios: 5500000\n",
      "Núm. episodios: 5600000\n",
      "Núm. episodios: 5700000\n",
      "Núm. episodios: 5800000\n",
      "Núm. episodios: 5900000\n",
      "Núm. episodios: 6000000\n",
      "Núm. episodios: 6100000\n",
      "Núm. episodios: 6200000\n",
      "Núm. episodios: 6300000\n",
      "Núm. episodios: 6400000\n",
      "Núm. episodios: 6500000\n",
      "Núm. episodios: 6600000\n",
      "Núm. episodios: 6700000\n",
      "Núm. episodios: 6800000\n",
      "Núm. episodios: 6900000\n",
      "Núm. episodios: 7000000\n",
      "Núm. episodios: 7100000\n",
      "Núm. episodios: 7200000\n",
      "Núm. episodios: 7300000\n",
      "Núm. episodios: 7400000\n",
      "Núm. episodios: 7500000\n",
      "Núm. episodios: 7600000\n",
      "Núm. episodios: 7700000\n",
      "Núm. episodios: 7800000\n",
      "Núm. episodios: 7900000\n",
      "Núm. episodios: 8000000\n",
      "Núm. episodios: 8100000\n",
      "Núm. episodios: 8200000\n",
      "Núm. episodios: 8300000\n",
      "Núm. episodios: 8400000\n",
      "Núm. episodios: 8500000\n",
      "Núm. episodios: 8600000\n",
      "Núm. episodios: 8700000\n",
      "Núm. episodios: 8800000\n",
      "Núm. episodios: 8900000\n",
      "Núm. episodios: 9000000\n",
      "Núm. episodios: 9100000\n",
      "Núm. episodios: 9200000\n",
      "Núm. episodios: 9300000\n",
      "Núm. episodios: 9400000\n",
      "Núm. episodios: 9500000\n",
      "Núm. episodios: 9600000\n",
      "Núm. episodios: 9700000\n",
      "Núm. episodios: 9800000\n",
      "Núm. episodios: 9900000\n",
      "Núm. episodios: 10000000\n"
     ]
    }
   ],
   "source": [
    "wl= dict.fromkeys(['total','win','lose'],0)\n",
    "Q_10k = sarsa(env, num_episodios=10000000,gama=0.95,wins_loses = wl)"
   ]
  },
  {
   "cell_type": "code",
   "execution_count": 96,
   "metadata": {
    "scrolled": true
   },
   "outputs": [
    {
     "name": "stdout",
     "output_type": "stream",
     "text": [
      "---- Política ----\n",
      "As no utilizable\n",
      "          | 21\n",
      "          | 20\n",
      "XXXXXXX X | 19\n",
      "XXXX XXXXX| 18\n",
      " X XX   XX| 17\n",
      "X X  XXXX | 16\n",
      "X X XX  X | 15\n",
      " X X  XX  | 14\n",
      " X   X  X | 13\n",
      " XX    XX | 12\n",
      "XXXXXXXXXX| 11\n",
      "A2345678910\n",
      " \n",
      "As utilizable\n",
      "          | 21\n",
      "          | 20\n",
      " XX XXXXXX| 19\n",
      "XXXXX X X | 18\n",
      "   XX X X | 17\n",
      "XXXXXXXX X| 16\n",
      "XXXXXXXXX | 15\n",
      "XXXXXXXXX | 14\n",
      "XXXXXXXXXX| 13\n",
      "XXXXXXXXX | 12\n",
      "XXXXXXXXXX| 11\n",
      "A2345678910\n",
      " \n"
     ]
    }
   ],
   "source": [
    "def imprime_politica(Q):\n",
    "    print('---- Política ----')\n",
    "    for useable in [0, 1]:\n",
    "        if useable:\n",
    "            print('As utilizable')\n",
    "        else:\n",
    "            print('As no utilizable')\n",
    "        for val in range(21,10,-1):\n",
    "            for card in range(1,11):\n",
    "                if (Q[((val,card,useable),1)] > Q[((val,card,useable),0)]):\n",
    "                    print('X',end=\"\")\n",
    "                else:\n",
    "                    print(' ',end=\"\")\n",
    "            print('| %d' % val)\n",
    "        print(\"A2345678910\")\n",
    "        print(' ')\n",
    "    \n",
    "imprime_politica(Q_10k)"
   ]
  },
  {
   "cell_type": "code",
   "execution_count": 121,
   "metadata": {},
   "outputs": [],
   "source": [
    "n = wl['total']\n",
    "for k in wl.keys():\n",
    "    wl[k] = (wl[k]/n)*100"
   ]
  },
  {
   "cell_type": "code",
   "execution_count": 122,
   "metadata": {},
   "outputs": [
    {
     "data": {
      "text/plain": [
       "{'total': 100.0, 'win': 27.568857243114277, 'lose': 72.43114275688572}"
      ]
     },
     "execution_count": 122,
     "metadata": {},
     "output_type": "execute_result"
    }
   ],
   "source": [
    "wl"
   ]
  },
  {
   "cell_type": "code",
   "execution_count": null,
   "metadata": {},
   "outputs": [],
   "source": []
  }
 ],
 "metadata": {
  "kernelspec": {
   "display_name": "Python 3",
   "language": "python",
   "name": "python3"
  },
  "language_info": {
   "codemirror_mode": {
    "name": "ipython",
    "version": 3
   },
   "file_extension": ".py",
   "mimetype": "text/x-python",
   "name": "python",
   "nbconvert_exporter": "python",
   "pygments_lexer": "ipython3",
   "version": "3.7.6"
  }
 },
 "nbformat": 4,
 "nbformat_minor": 4
}

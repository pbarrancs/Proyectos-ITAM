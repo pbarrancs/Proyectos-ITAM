{
 "cells": [
  {
   "cell_type": "code",
   "execution_count": 450,
   "metadata": {},
   "outputs": [],
   "source": [
    "import pandas as pd\n",
    "import numpy as np\n",
    "import random as rd\n",
    "import matplotlib.pyplot as plt\n",
    "from sklearn.model_selection import train_test_split"
   ]
  },
  {
   "cell_type": "markdown",
   "metadata": {},
   "source": [
    "Primero crearemos nuestro conjunto de datos atrificialmente. Generamos este conjunto de datos aleatorios, de manera que 50 datos sean tales que $-30<xi<30$ y con media en $0$ y otros $50$ datos que tengan la misma desviación, pero que estaran centrados lo suficientemente lejos para que el conjunto de datos sea separable. En este caso centrados en $58$."
   ]
  },
  {
   "cell_type": "code",
   "execution_count": 451,
   "metadata": {},
   "outputs": [],
   "source": [
    "#Opcion 1\n",
    "x1 = np.array(np.random.normal(0,15,50))\n",
    "x2 = np.random.normal(0,15,50)\n",
    "\n",
    "x3 = np.random.normal(58,15,50)\n",
    "x4 = np.random.normal(58,15,50)\n",
    "\n",
    "y1 = np.ones(50)\n",
    "y2 = np.ones(50)*(-1)\n",
    "\n",
    "X1 = np.array([[x1],[x2],[y1]]).transpose()\n",
    "X2 = np.array([[x3],[x4],[y2]]).transpose()\n",
    "\n",
    "\n",
    "data_1 = np.concatenate((X1, X2) , axis = 0)\n",
    "data_1 = data_1[:,0]\n",
    "train, test = train_test_split(data_1, test_size=0.1)"
   ]
  },
  {
   "cell_type": "markdown",
   "metadata": {},
   "source": [
    "Plotearemos los datos para verificar que el conjunto en efecto sea separable."
   ]
  },
  {
   "cell_type": "code",
   "execution_count": 452,
   "metadata": {},
   "outputs": [
    {
     "data": {
      "image/png": "[encoded data removed]",
      "text/plain": [
       "<Figure size 432x288 with 1 Axes>"
      ]
     },
     "metadata": {
      "needs_background": "light"
     },
     "output_type": "display_data"
    }
   ],
   "source": [
    "plt.plot(x1,x2,'x',linewidth=3,color= 'b',label = 'x1')\n",
    "plt.plot(x3,x4,'o',linewidth=3,color= 'r',label = 'x2')\n",
    "plt.xlabel('x')\n",
    "plt.ylabel('y')\n",
    "plt.legend()\n",
    "plt.title('Data')\n",
    "plt.show()"
   ]
  },
  {
   "cell_type": "markdown",
   "metadata": {},
   "source": [
    "En el siguiente codigo programamos nuestro perceptron."
   ]
  },
  {
   "cell_type": "code",
   "execution_count": 453,
   "metadata": {
    "scrolled": true
   },
   "outputs": [],
   "source": [
    "def perceptron2(datos):\n",
    "    #Recibimos datos en forma de matrices donde la última columna deben de ser las clases (etiquetas)\n",
    "    variables = datos[:, :-1] \n",
    "    clases = datos[:, -1]\n",
    "    dim = variables.shape[1]\n",
    "    n = len(variables)\n",
    "    \n",
    "    # Comenzamos todas las thetas en 0 para la primera iteración\n",
    "    thetas = np.zeros(shape=(1, dim)) \n",
    "    t0 = 0 #theta cero\n",
    "    \n",
    "    #Definimos la Tolerancia\n",
    "#     tol = 1e-10\n",
    "    tol = np.finfo(float).eps\n",
    "    \n",
    "    condicion = True # bandera\n",
    "    max_iters = 1000 #Hiperparámetro arbitrario que se puede cambiar\n",
    "    j = 0 # contador de iteraciones\n",
    "    cambio = 0 # contador de cambios de la recta\n",
    "    \n",
    "    \n",
    "    while condicion: \n",
    "        tp = thetas\n",
    "        for i in range(0,n) :\n",
    "            x = variables[i].transpose()\n",
    "            y = clases[i]\n",
    "\n",
    "            if(np.dot(y,np.dot(thetas, x) + t0) <=0):\n",
    "                thetas += np.dot(y,x)\n",
    "                t0 += y\n",
    "                cambio += 1\n",
    "        j+= 1\n",
    "#         if(abs(np.linalg.norm(thetas-tp)) >= tol):\n",
    "#             print(1)\n",
    "#         if(j >=max_iters):\n",
    "#             print(2)\n",
    "        condicion = abs(np.linalg.norm(thetas-tp)) < tol and j < max_iters\n",
    "\n",
    "    return (thetas,t0,cambio,j)\n",
    "             \n"
   ]
  },
  {
   "cell_type": "code",
   "execution_count": 454,
   "metadata": {},
   "outputs": [],
   "source": [
    "def gen_recta(w0, w1, w2 , x, set_lenght):\n",
    "    y = []\n",
    "    for i in range(0, set_lenght):\n",
    "        y.append(x[i]*(-w1/w2) -(w0/w2))\n",
    "    return y"
   ]
  },
  {
   "cell_type": "code",
   "execution_count": 455,
   "metadata": {},
   "outputs": [],
   "source": [
    "w, w0, cambio, j = perceptron2(train)"
   ]
  },
  {
   "cell_type": "markdown",
   "metadata": {},
   "source": [
    "Observamos que el numero de iteraciones y los camios en la recta que realizo el algoritmo."
   ]
  },
  {
   "cell_type": "code",
   "execution_count": 456,
   "metadata": {},
   "outputs": [
    {
     "name": "stdout",
     "output_type": "stream",
     "text": [
      "Cambio en la recta: 312\n",
      "Numero de iteraciones: 1000\n"
     ]
    }
   ],
   "source": [
    "print('Cambio en la recta:', cambio)\n",
    "print('Numero de iteraciones:', j)"
   ]
  },
  {
   "cell_type": "markdown",
   "metadata": {},
   "source": [
    "Obtuvimos el siguiente resultado."
   ]
  },
  {
   "cell_type": "code",
   "execution_count": 457,
   "metadata": {
    "scrolled": false
   },
   "outputs": [
    {
     "data": {
      "image/png": "[encoded data removed]",
      "text/plain": [
       "<Figure size 432x288 with 1 Axes>"
      ]
     },
     "metadata": {
      "needs_background": "light"
     },
     "output_type": "display_data"
    }
   ],
   "source": [
    "\n",
    "x = np.linspace(min(min(x1),min(x3)),max(max(x1),max(x3)),10)\n",
    "y = gen_recta(w0, w[0, 0], w[0,1] , x , 10)\n",
    "\n",
    "plt.figure()\n",
    "plt.plot(x,y,'r',linewidth=2, color = 'g')\n",
    "plt.plot(x1,x2,'x', color= 'b',label = 'x1')\n",
    "plt.plot(x3,x4,'o', color= 'r',label = 'x2')\n",
    "plt.xlabel('x')\n",
    "plt.ylabel('y')\n",
    "plt.legend()\n",
    "plt.title('Perceptron')\n",
    "plt.show()"
   ]
  },
  {
   "cell_type": "markdown",
   "metadata": {},
   "source": [
    "Ahora para ver el comportamiento del algoritmo veremos que sucede si los datos estan ordenados. "
   ]
  },
  {
   "cell_type": "code",
   "execution_count": 458,
   "metadata": {},
   "outputs": [],
   "source": [
    "w, w0, cambio , j= perceptron2(data_1)"
   ]
  },
  {
   "cell_type": "code",
   "execution_count": 459,
   "metadata": {},
   "outputs": [
    {
     "data": {
      "image/png": "[encoded data removed]",
      "text/plain": [
       "<Figure size 432x288 with 1 Axes>"
      ]
     },
     "metadata": {
      "needs_background": "light"
     },
     "output_type": "display_data"
    }
   ],
   "source": [
    "y = gen_recta(w0, w[0, 0], w[0,1] , x , 10)\n",
    "\n",
    "plt.figure()\n",
    "plt.plot(x,y,'r',linewidth=2, color = 'g')\n",
    "plt.plot(x1,x2,'x', color= 'b',label = 'x1')\n",
    "plt.plot(x3,x4,'o', color= 'r',label = 'x2')\n",
    "plt.xlabel('x')\n",
    "plt.ylabel('y')\n",
    "plt.legend()\n",
    "plt.title('Perceptron Ordenado')\n",
    "plt.show()"
   ]
  },
  {
   "cell_type": "markdown",
   "metadata": {},
   "source": [
    "En esta ocacion el algoritmo realizo las siguientes iteraciones y numero de cambios en la recta."
   ]
  },
  {
   "cell_type": "code",
   "execution_count": 460,
   "metadata": {},
   "outputs": [
    {
     "name": "stdout",
     "output_type": "stream",
     "text": [
      "Cambio en la recta: 451\n",
      "Numero de iteraciones: 1000\n"
     ]
    }
   ],
   "source": [
    "print('Cambio en la recta:', cambio)\n",
    "print('Numero de iteraciones:', j)"
   ]
  },
  {
   "cell_type": "markdown",
   "metadata": {},
   "source": [
    "Para terminar de explorar el comportamiento del algoritmo, veremos que sucede con datos con menor desviacion estandar.\n",
    "Es decir datos que esten en el intervalo $[-1,1]$"
   ]
  },
  {
   "cell_type": "code",
   "execution_count": 461,
   "metadata": {},
   "outputs": [],
   "source": [
    "#Opcion 2\n",
    "x1 = np.array(np.random.normal(-1.2,0.5,50))\n",
    "x2 = np.random.normal(-1.2,0.5,50)\n",
    "\n",
    "x3 = np.random.normal(1.2,0.5,50)\n",
    "x4 = np.random.normal(1.2,0.5,50)\n",
    "\n",
    "y1 = np.ones(50)\n",
    "y2 = np.ones(50)*(-1)\n",
    "\n",
    "X1 = np.array([[x1],[x2],[y1]]).transpose()\n",
    "X2 = np.array([[x3],[x4],[y2]]).transpose()\n",
    "\n",
    "\n",
    "data_2 = np.concatenate((X1, X2) , axis = 0)\n",
    "data_2 = data_1[:,0]\n",
    "train, test = train_test_split(data_1, test_size=0.1)"
   ]
  },
  {
   "cell_type": "markdown",
   "metadata": {},
   "source": [
    "Al igual que en el ejercicio pasado, graficaremos los datos para cerciorarnos de que sea separable."
   ]
  },
  {
   "cell_type": "code",
   "execution_count": 462,
   "metadata": {},
   "outputs": [
    {
     "data": {
      "image/png": "[encoded data removed]",
      "text/plain": [
       "<Figure size 432x288 with 1 Axes>"
      ]
     },
     "metadata": {
      "needs_background": "light"
     },
     "output_type": "display_data"
    }
   ],
   "source": [
    "plt.plot(x1,x2,'x',linewidth=3,color= 'b',label = 'x1')\n",
    "plt.plot(x3,x4,'o',linewidth=3,color= 'r',label = 'x2')\n",
    "plt.xlabel('x')\n",
    "plt.ylabel('y')\n",
    "plt.legend()\n",
    "plt.title('Data')\n",
    "plt.show()"
   ]
  },
  {
   "cell_type": "code",
   "execution_count": 463,
   "metadata": {},
   "outputs": [],
   "source": [
    "w, w0 , cambio, j = perceptron2(train)"
   ]
  },
  {
   "cell_type": "code",
   "execution_count": 464,
   "metadata": {
    "scrolled": true
   },
   "outputs": [
    {
     "data": {
      "image/png": "[encoded data removed]",
      "text/plain": [
       "<Figure size 432x288 with 1 Axes>"
      ]
     },
     "metadata": {
      "needs_background": "light"
     },
     "output_type": "display_data"
    }
   ],
   "source": [
    "x = np.linspace(min(min(x1),min(x3)),max(max(x1),max(x3)),10)\n",
    "y = gen_recta(w0, w[0, 0], w[0,1] , x , 10)\n",
    "\n",
    "plt.figure()\n",
    "plt.plot(x,y,'r',linewidth=2, color = 'g')\n",
    "plt.plot(x1,x2,'x', color= 'b',label = 'x1')\n",
    "plt.plot(x3,x4,'o', color= 'r',label = 'x2')\n",
    "plt.xlabel('x')\n",
    "plt.ylabel('y')\n",
    "plt.legend()\n",
    "plt.title('Perceptron Ordenado')\n",
    "plt.show()"
   ]
  },
  {
   "cell_type": "markdown",
   "metadata": {},
   "source": [
    "Las iteraciones y el numero de cambios que se realizaron se muestra a contininuación."
   ]
  },
  {
   "cell_type": "code",
   "execution_count": 465,
   "metadata": {},
   "outputs": [
    {
     "name": "stdout",
     "output_type": "stream",
     "text": [
      "Cambio en la recta: 244\n",
      "Numero de iteraciones: 1000\n"
     ]
    }
   ],
   "source": [
    "print('Cambio en la recta:', cambio)\n",
    "print('Numero de iteraciones:', j)"
   ]
  },
  {
   "cell_type": "markdown",
   "metadata": {},
   "source": [
    "Observamos que el algoritmo nos da un resultado  lejos de ser acertado cuando los datos estan pequeños.Esto se puede deber a que con datos muy pequeños las $thetas$ crecen bastante. Por lo que habria que considerar reescalar los datos para obtener un resultado mas optimo."
   ]
  }
 ],
 "metadata": {
  "kernelspec": {
   "display_name": "Python 3",
   "language": "python",
   "name": "python3"
  },
  "language_info": {
   "codemirror_mode": {
    "name": "ipython",
    "version": 3
   },
   "file_extension": ".py",
   "mimetype": "text/x-python",
   "name": "python",
   "nbconvert_exporter": "python",
   "pygments_lexer": "ipython3",
   "version": "3.7.4"
  }
 },
 "nbformat": 4,
 "nbformat_minor": 4
}

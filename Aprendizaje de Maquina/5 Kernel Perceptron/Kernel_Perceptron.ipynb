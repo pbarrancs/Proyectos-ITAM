{
 "cells": [
  {
   "cell_type": "code",
   "execution_count": 1,
   "metadata": {},
   "outputs": [],
   "source": [
    "import pandas as pd\n",
    "import numpy as np\n",
    "import copy\n",
    "import random as rd\n",
    "import matplotlib.pyplot as plt\n",
    "from sklearn.model_selection import train_test_split\n",
    "import math"
   ]
  },
  {
   "cell_type": "code",
   "execution_count": 111,
   "metadata": {},
   "outputs": [],
   "source": [
    "#Creamos los datos\n",
    "np.random.seed(2)\n",
    "means = [-30,-3,3,30]\n",
    "sigma = [8,3,3,8]\n",
    "\n",
    "\n",
    "#Otro posible conjunto de datos para probar\n",
    "# x1 = np.random.normal(means[1],sigma[1],25) \n",
    "# x2 = np.random.normal(means[0],sigma[0],25)\n",
    "# x3 = np.random.normal(means[2],sigma[2],25)\n",
    "# x4 = np.random.normal(means[3],sigma[3],25)\n",
    "\n",
    "# x5 = np.random.normal(means[0],sigma[0],25)\n",
    "# x6 = np.random.normal(means[1],sigma[1],25)\n",
    "# x7 = np.random.normal(means[3],sigma[3],25)\n",
    "# x8 = np.random.normal(means[2],sigma[2],25)\n",
    "\n",
    "# x1 = np.random.normal(means[1],sigma[1],25) \n",
    "# x2 = np.random.normal(means[1],sigma[1],25)\n",
    "# x3 = np.random.normal(means[2],sigma[2],25)\n",
    "# x4 = np.random.normal(means[2],sigma[2],25)\n",
    "\n",
    "# x5 = np.random.normal(means[0],sigma[0],25)\n",
    "# x6 = np.random.normal(means[0],sigma[0],25)\n",
    "# x7 = np.random.normal(means[3],sigma[3],25)\n",
    "# x8 = np.random.normal(means[3],sigma[3],25)\n",
    "\n",
    "# x1 = np.random.normal(3,3,25) \n",
    "# x2 = np.random.normal(3,3,25)\n",
    "# x3 = np.random.normal(2,3,25)\n",
    "# x4 = np.random.normal(2,3,25)\n",
    "\n",
    "# x5 = np.random.normal(-25,8,25)\n",
    "# x6 = np.random.normal(15,8,25)\n",
    "# x7 = np.random.normal(40,10,25)\n",
    "# x8 = np.random.normal(10,10,25)\n",
    "\n",
    "x1 = np.random.normal(3,3,25) \n",
    "x2 = np.random.normal(-4,3,25)\n",
    "x3 = np.random.normal(2,3,25)\n",
    "x4 = np.random.normal(-4,3,25)\n",
    "\n",
    "x5 = np.random.normal(25,6,25)\n",
    "x6 = np.random.normal(-15,6,25)\n",
    "x7 = np.random.normal(25,10,25)\n",
    "x8 = np.random.normal(20,10,25)\n",
    "\n",
    "\n",
    "Y1 = np.ones(50)\n",
    "Y2 = np.ones(50)*(-1)\n",
    "\n",
    "x11 = np.concatenate((x1,x3), axis = 0)\n",
    "x12 = np.concatenate((x2,x4), axis = 0)\n",
    "\n",
    "x21 = np.concatenate((x5,x7), axis = 0)\n",
    "x22 = np.concatenate((x6,x8), axis = 0)\n",
    "\n",
    "\n",
    "X1 = np.array([[x11],[x12]]).transpose()\n",
    "X2 = np.array([[x21],[x22]]).transpose()\n",
    "X1 = X1[:,0]\n",
    "X2 = X2[:,0]\n",
    "\n",
    "X11 = np.array([[x11],[x12],[Y1]]).transpose()\n",
    "X22 = np.array([[x21],[x22],[Y2]]).transpose()\n",
    "\n",
    "\n",
    "data_1 = np.concatenate((X11, X22) , axis = 0)\n",
    "data_1 = data_1[:,0]\n",
    "np.random.shuffle(data_1)\n",
    "train = data_1"
   ]
  },
  {
   "cell_type": "code",
   "execution_count": 112,
   "metadata": {},
   "outputs": [
    {
     "data": {
      "image/png": "[encoded data removed]",
      "text/plain": [
       "<Figure size 432x288 with 1 Axes>"
      ]
     },
     "metadata": {
      "needs_background": "light"
     },
     "output_type": "display_data"
    }
   ],
   "source": [
    "plt.scatter(X1[:,0], X1[:,1],c='b', marker='x', label='y = 1')\n",
    "plt.scatter(X2[:,0], X2[:,1],c='r', marker='s', label='y =-1')\n",
    "plt.xlabel('x')\n",
    "plt.ylabel('y')\n",
    "plt.legend()\n",
    "plt.title('Data')\n",
    "plt.show()"
   ]
  },
  {
   "cell_type": "code",
   "execution_count": 4,
   "metadata": {},
   "outputs": [],
   "source": [
    "def kernel_gausiano(x,xprima):\n",
    "    form = -(1/2)*((np.linalg.norm(x-xprima))**2)\n",
    "    return math.exp(form)"
   ]
  },
  {
   "cell_type": "code",
   "execution_count": 10,
   "metadata": {},
   "outputs": [],
   "source": [
    "def kernel_perceptron(datos):\n",
    "    #Recibimos datos en forma de matrices donde la última columna deben de ser las clases (etiquetas)\n",
    "    X = datos[:, :-1] \n",
    "    y = datos[:, -1]\n",
    "    dim = X.shape[1]\n",
    "    n = len(X)\n",
    "    \n",
    "    # Comenzamos todas las thetas en 0 para la primera iteración\n",
    "    alpha = np.zeros(n, dtype=np.float64)\n",
    "    \n",
    "    condicion = True # bandera\n",
    "    max_iters = 1000 #Hiperparámetro arbitrario que se puede cambiar\n",
    "    j = 0 # contador de iteraciones\n",
    "    tol = np.finfo(float).eps #Tolerancia\n",
    "    \n",
    "    #Creamos nuestra matriz con el Kernel\n",
    "    K = np.zeros((n,n))\n",
    "    for i in range(n):\n",
    "        for j in range(n):\n",
    "            K[i,j] = kernel_gausiano(X[i], X[j])\n",
    "    \n",
    "    while condicion:\n",
    "        a = copy.deepcopy(alpha)\n",
    "        for i in range(0,n) :\n",
    "            if np.dot(y[i], np.sum(K[:,i] * alpha * y)) <= 0:\n",
    "                alpha[i] += 1.0\n",
    "        j+= 1\n",
    "        condicion = abs(np.linalg.norm(alpha-a)) > tol and j < max_iters\n",
    "        \n",
    "    vecsop = alpha > 1e-5\n",
    "    ind = np.arange(len(alpha))[vecsop]\n",
    "    alpha = alpha[vecsop]\n",
    "    vecsop_x = X[vecsop]\n",
    "    vecsop_y = y[vecsop]\n",
    "    \n",
    "    return (vecsop_x, vecsop_y,j)"
   ]
  },
  {
   "cell_type": "code",
   "execution_count": 23,
   "metadata": {
    "scrolled": true
   },
   "outputs": [
    {
     "name": "stdout",
     "output_type": "stream",
     "text": [
      "\tDatos nrdenados\n",
      "\n",
      "X =  [[  1.36376123  -3.03120987]\n",
      " [-27.66461151 -27.58256036]\n",
      " [ 21.40422414  32.2144263 ]]\n",
      "y =  [ 1. -1. -1.]\n",
      "Iteraciones =  101\n"
     ]
    }
   ],
   "source": [
    "x,y,it = kernel_perceptron(data_1)\n",
    "print(\"\\tDatos ordenados\\n\")\n",
    "print(\"X = \",x)\n",
    "print(\"y = \",y)\n",
    "print(\"Iteraciones = \",it)"
   ]
  },
  {
   "cell_type": "code",
   "execution_count": 22,
   "metadata": {},
   "outputs": [
    {
     "name": "stdout",
     "output_type": "stream",
     "text": [
      "\tDatos no ordenados\n",
      "\n",
      "X =  [[  1.36376123  -3.03120987]\n",
      " [-27.66461151 -27.58256036]\n",
      " [ 21.40422414  32.2144263 ]]\n",
      "y =  [ 1. -1. -1.]\n",
      "Iteraciones =  101\n"
     ]
    }
   ],
   "source": [
    "x,y,it = kernel_perceptron(train)\n",
    "print(\"\\tDatos no ordenados\\n\")\n",
    "print(\"X = \",x)\n",
    "print(\"y = \",y)\n",
    "print(\"Iteraciones = \",it)"
   ]
  }
 ],
 "metadata": {
  "kernelspec": {
   "display_name": "Python 3",
   "language": "python",
   "name": "python3"
  },
  "language_info": {
   "codemirror_mode": {
    "name": "ipython",
    "version": 3
   },
   "file_extension": ".py",
   "mimetype": "text/x-python",
   "name": "python",
   "nbconvert_exporter": "python",
   "pygments_lexer": "ipython3",
   "version": "3.7.4"
  }
 },
 "nbformat": 4,
 "nbformat_minor": 4
}

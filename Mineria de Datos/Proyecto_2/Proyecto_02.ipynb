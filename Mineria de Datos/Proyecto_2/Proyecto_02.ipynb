{
 "cells": [
  {
   "cell_type": "markdown",
   "metadata": {},
   "source": [
    "## **Proyecto 02**\n",
    "\n",
    "*Profesora*: M. Sc. Liliana Millán Núñez\n",
    "\n",
    "*Materia*: Minería de datos\n",
    "\n",
    "*Alumnos*: Alfredo Castro Alducin, Pablo Barranco Soto\n",
    "\n",
    "*CC.UU.*: 173350 ,151528 "
   ]
  },
  {
   "cell_type": "code",
   "execution_count": 1,
   "metadata": {},
   "outputs": [],
   "source": [
    "import pandas as pd\n",
    "import numpy as np\n",
    "import seaborn as sns\n",
    "import random\n",
    "import matplotlib.pyplot as plt\n",
    "from mlxtend.preprocessing import TransactionEncoder\n",
    "from mlxtend.frequent_patterns import apriori\n",
    "from mlxtend.frequent_patterns import association_rules"
   ]
  },
  {
   "cell_type": "code",
   "execution_count": 2,
   "metadata": {},
   "outputs": [],
   "source": [
    "# Cargamos nuestros datos \n",
    "data = pd.read_csv(\"data/subset_bakery.csv\")\n",
    "\n",
    "# Semilla \n",
    "np.random.seed(2020)"
   ]
  },
  {
   "cell_type": "markdown",
   "metadata": {},
   "source": [
    "# Preguntas EDA"
   ]
  },
  {
   "cell_type": "markdown",
   "metadata": {},
   "source": [
    "##### 1. ¿Cuál es el producto que más se vende?"
   ]
  },
  {
   "cell_type": "code",
   "execution_count": 3,
   "metadata": {
    "scrolled": true
   },
   "outputs": [
    {
     "data": {
      "text/html": [
       "<div>\n",
       "<style scoped>\n",
       "    .dataframe tbody tr th:only-of-type {\n",
       "        vertical-align: middle;\n",
       "    }\n",
       "\n",
       "    .dataframe tbody tr th {\n",
       "        vertical-align: top;\n",
       "    }\n",
       "\n",
       "    .dataframe thead th {\n",
       "        text-align: right;\n",
       "    }\n",
       "</style>\n",
       "<table border=\"1\" class=\"dataframe\">\n",
       "  <thead>\n",
       "    <tr style=\"text-align: right;\">\n",
       "      <th></th>\n",
       "      <th>item</th>\n",
       "      <th>count</th>\n",
       "    </tr>\n",
       "  </thead>\n",
       "  <tbody>\n",
       "    <tr>\n",
       "      <th>4</th>\n",
       "      <td>Coffee</td>\n",
       "      <td>4528</td>\n",
       "    </tr>\n",
       "  </tbody>\n",
       "</table>\n",
       "</div>"
      ],
      "text/plain": [
       "     item  count\n",
       "4  Coffee   4528"
      ]
     },
     "execution_count": 3,
     "metadata": {},
     "output_type": "execute_result"
    }
   ],
   "source": [
    "ventas=data.groupby(['item'], as_index=False)['transaction']\\\n",
    ".nunique()\\\n",
    ".rename(columns={'transaction': 'count'})\\\n",
    ".sort_values(by=\"count\", ascending=False)\n",
    "\n",
    "ventas[:1]"
   ]
  },
  {
   "cell_type": "markdown",
   "metadata": {},
   "source": [
    "El producto que más se vende es el _Coffee_ , con $4528$ transacciones registradas"
   ]
  },
  {
   "cell_type": "markdown",
   "metadata": {},
   "source": [
    "##### 2. Genera una gráfica de barras que contenga los 10 productos más populares ordenados de mayor a menor popularidad, donde popularidad es el conteo del número de transacciones en el que aparecieron."
   ]
  },
  {
   "cell_type": "code",
   "execution_count": 4,
   "metadata": {},
   "outputs": [
    {
     "data": {
      "image/png": "[encoded data removed]",
      "text/plain": [
       "<Figure size 864x360 with 1 Axes>"
      ]
     },
     "metadata": {
      "needs_background": "light"
     },
     "output_type": "display_data"
    }
   ],
   "source": [
    "top10=ventas[:10]\n",
    "\n",
    "plt.figure(figsize=(12, 5))\n",
    "sns.barplot(data=top10,x='count',y='item', palette = 'Set2').set_title('Popularidad de Productos')\n",
    "plt.ylabel('Producto')\n",
    "plt.xlabel('Transacciones')\n",
    "plt.show()"
   ]
  },
  {
   "cell_type": "markdown",
   "metadata": {},
   "source": [
    "Podemos ver que los productos mas populares fueron _Coffe_ , _Bread_ y _Tea_. Mientras que los menos populares fueron _Medialuna_ , _Hot_ _chocolate_ y _Cookies_ ."
   ]
  },
  {
   "cell_type": "markdown",
   "metadata": {},
   "source": [
    "##### 3. ¿En qué día de los que tienes en tu dataset se compra más Hot chocolate?"
   ]
  },
  {
   "cell_type": "code",
   "execution_count": 5,
   "metadata": {},
   "outputs": [
    {
     "data": {
      "text/html": [
       "<div>\n",
       "<style scoped>\n",
       "    .dataframe tbody tr th:only-of-type {\n",
       "        vertical-align: middle;\n",
       "    }\n",
       "\n",
       "    .dataframe tbody tr th {\n",
       "        vertical-align: top;\n",
       "    }\n",
       "\n",
       "    .dataframe thead th {\n",
       "        text-align: right;\n",
       "    }\n",
       "</style>\n",
       "<table border=\"1\" class=\"dataframe\">\n",
       "  <thead>\n",
       "    <tr style=\"text-align: right;\">\n",
       "      <th></th>\n",
       "      <th>date</th>\n",
       "      <th>count</th>\n",
       "    </tr>\n",
       "  </thead>\n",
       "  <tbody>\n",
       "    <tr>\n",
       "      <th>53</th>\n",
       "      <td>2016-12-24</td>\n",
       "      <td>14</td>\n",
       "    </tr>\n",
       "  </tbody>\n",
       "</table>\n",
       "</div>"
      ],
      "text/plain": [
       "          date  count\n",
       "53  2016-12-24     14"
      ]
     },
     "execution_count": 5,
     "metadata": {},
     "output_type": "execute_result"
    }
   ],
   "source": [
    "hc=data[data.item=='Hot chocolate']\n",
    "hc.groupby(['date'], as_index=False)['transaction']\\\n",
    ".count()\\\n",
    ".rename(columns={'transaction': 'count'})\\\n",
    ".sort_values(by=\"count\", ascending=False)[:1]"
   ]
  },
  {
   "cell_type": "markdown",
   "metadata": {},
   "source": [
    "El día que mas se compro _Hot chocholate_ fue el $2016/12/24$, con un total de $14$.\n"
   ]
  },
  {
   "cell_type": "markdown",
   "metadata": {},
   "source": [
    "##### 4. Genera un histograma con el número de items que tienes por ticket, ¿cuántos items tienen la mayoría de los tickets?"
   ]
  },
  {
   "cell_type": "code",
   "execution_count": 6,
   "metadata": {},
   "outputs": [],
   "source": [
    "frequency = data.groupby(['transaction'], as_index=False)['item']\\\n",
    ".count()\\\n",
    ".rename(columns={'item': 'NItem'})\\\n",
    ".sort_values(by=\"NItem\", ascending=False)"
   ]
  },
  {
   "cell_type": "code",
   "execution_count": 7,
   "metadata": {},
   "outputs": [
    {
     "data": {
      "image/png": "[encoded data removed]",
      "text/plain": [
       "<Figure size 864x360 with 1 Axes>"
      ]
     },
     "metadata": {
      "needs_background": "light"
     },
     "output_type": "display_data"
    }
   ],
   "source": [
    "#import warnings\n",
    "#warnings.simplefilter(action='ignore', category=FutureWarning)\n",
    "\n",
    "plt.figure(figsize=(12, 5))\n",
    "sns.distplot(a=frequency.NItem,hist=True, bins = 11,kde = False, color = 'b')\n",
    "plt.xticks([1,2,3,4,5,6,7,8,9,10,11])\n",
    "plt.title('Histograma')\n",
    "plt.ylabel('Frecuencia')\n",
    "plt.xlabel('N. Items')\n",
    "plt.show()"
   ]
  },
  {
   "cell_type": "markdown",
   "metadata": {},
   "source": [
    "Podemos ver que la mayoria de los tickets tienen 1 producto."
   ]
  },
  {
   "cell_type": "markdown",
   "metadata": {},
   "source": [
    "##### 5. ¿Cuál es el ticket con mayor cantidad de productos, cuáles son esos productos?"
   ]
  },
  {
   "cell_type": "code",
   "execution_count": 8,
   "metadata": {},
   "outputs": [
    {
     "data": {
      "text/html": [
       "<div>\n",
       "<style scoped>\n",
       "    .dataframe tbody tr th:only-of-type {\n",
       "        vertical-align: middle;\n",
       "    }\n",
       "\n",
       "    .dataframe tbody tr th {\n",
       "        vertical-align: top;\n",
       "    }\n",
       "\n",
       "    .dataframe thead th {\n",
       "        text-align: right;\n",
       "    }\n",
       "</style>\n",
       "<table border=\"1\" class=\"dataframe\">\n",
       "  <thead>\n",
       "    <tr style=\"text-align: right;\">\n",
       "      <th></th>\n",
       "      <th>date</th>\n",
       "      <th>time</th>\n",
       "      <th>transaction</th>\n",
       "      <th>item</th>\n",
       "    </tr>\n",
       "  </thead>\n",
       "  <tbody>\n",
       "    <tr>\n",
       "      <th>11857</th>\n",
       "      <td>2017-02-09</td>\n",
       "      <td>13:44:56</td>\n",
       "      <td>6279</td>\n",
       "      <td>Juice</td>\n",
       "    </tr>\n",
       "    <tr>\n",
       "      <th>11858</th>\n",
       "      <td>2017-02-09</td>\n",
       "      <td>13:44:56</td>\n",
       "      <td>6279</td>\n",
       "      <td>Toast</td>\n",
       "    </tr>\n",
       "    <tr>\n",
       "      <th>11859</th>\n",
       "      <td>2017-02-09</td>\n",
       "      <td>13:44:56</td>\n",
       "      <td>6279</td>\n",
       "      <td>Sandwich</td>\n",
       "    </tr>\n",
       "    <tr>\n",
       "      <th>11860</th>\n",
       "      <td>2017-02-09</td>\n",
       "      <td>13:44:56</td>\n",
       "      <td>6279</td>\n",
       "      <td>Sandwich</td>\n",
       "    </tr>\n",
       "    <tr>\n",
       "      <th>11861</th>\n",
       "      <td>2017-02-09</td>\n",
       "      <td>13:44:56</td>\n",
       "      <td>6279</td>\n",
       "      <td>Tea</td>\n",
       "    </tr>\n",
       "    <tr>\n",
       "      <th>11862</th>\n",
       "      <td>2017-02-09</td>\n",
       "      <td>13:44:56</td>\n",
       "      <td>6279</td>\n",
       "      <td>Coffee</td>\n",
       "    </tr>\n",
       "    <tr>\n",
       "      <th>11863</th>\n",
       "      <td>2017-02-09</td>\n",
       "      <td>13:44:56</td>\n",
       "      <td>6279</td>\n",
       "      <td>Cookies</td>\n",
       "    </tr>\n",
       "    <tr>\n",
       "      <th>11864</th>\n",
       "      <td>2017-02-09</td>\n",
       "      <td>13:44:56</td>\n",
       "      <td>6279</td>\n",
       "      <td>Cookies</td>\n",
       "    </tr>\n",
       "    <tr>\n",
       "      <th>11865</th>\n",
       "      <td>2017-02-09</td>\n",
       "      <td>13:44:56</td>\n",
       "      <td>6279</td>\n",
       "      <td>Alfajores</td>\n",
       "    </tr>\n",
       "    <tr>\n",
       "      <th>11866</th>\n",
       "      <td>2017-02-09</td>\n",
       "      <td>13:44:56</td>\n",
       "      <td>6279</td>\n",
       "      <td>Alfajores</td>\n",
       "    </tr>\n",
       "    <tr>\n",
       "      <th>11867</th>\n",
       "      <td>2017-02-09</td>\n",
       "      <td>13:44:56</td>\n",
       "      <td>6279</td>\n",
       "      <td>Hot chocolate</td>\n",
       "    </tr>\n",
       "  </tbody>\n",
       "</table>\n",
       "</div>"
      ],
      "text/plain": [
       "             date      time  transaction           item\n",
       "11857  2017-02-09  13:44:56         6279          Juice\n",
       "11858  2017-02-09  13:44:56         6279          Toast\n",
       "11859  2017-02-09  13:44:56         6279       Sandwich\n",
       "11860  2017-02-09  13:44:56         6279       Sandwich\n",
       "11861  2017-02-09  13:44:56         6279            Tea\n",
       "11862  2017-02-09  13:44:56         6279         Coffee\n",
       "11863  2017-02-09  13:44:56         6279        Cookies\n",
       "11864  2017-02-09  13:44:56         6279        Cookies\n",
       "11865  2017-02-09  13:44:56         6279      Alfajores\n",
       "11866  2017-02-09  13:44:56         6279      Alfajores\n",
       "11867  2017-02-09  13:44:56         6279  Hot chocolate"
      ]
     },
     "execution_count": 8,
     "metadata": {},
     "output_type": "execute_result"
    }
   ],
   "source": [
    "ticket_mayor = int(frequency[:1].transaction)\n",
    "data[data.transaction==ticket_mayor]"
   ]
  },
  {
   "cell_type": "code",
   "execution_count": 9,
   "metadata": {},
   "outputs": [
    {
     "name": "stdout",
     "output_type": "stream",
     "text": [
      "Los productos comprados fueron: ['Juice' 'Toast' 'Sandwich' 'Tea' 'Coffee' 'Cookies' 'Alfajores'\n",
      " 'Hot chocolate'].\n"
     ]
    }
   ],
   "source": [
    "print('Los productos comprados fueron: {}.' .format(data['item'][data.transaction==6279].unique()))"
   ]
  },
  {
   "cell_type": "markdown",
   "metadata": {},
   "source": [
    "# Preguntas a-priori"
   ]
  },
  {
   "cell_type": "markdown",
   "metadata": {},
   "source": [
    "* Utilizando el algoritmo A-priori genera reglas de asociación a través de las transacciones con las que cuentas.\n",
    "* Ocupa un mínimo de soporte de 5%.\n",
    "* Generando reglas de asociación, ocupando un threshold mínimo de 30% de confianza"
   ]
  },
  {
   "cell_type": "code",
   "execution_count": 10,
   "metadata": {},
   "outputs": [],
   "source": [
    "# list of lists \n",
    "txs = data.groupby(['transaction'])['item'].apply(lambda x: list(np.unique(x)))\n",
    "txs_list = txs.values.tolist()"
   ]
  },
  {
   "cell_type": "code",
   "execution_count": 11,
   "metadata": {},
   "outputs": [],
   "source": [
    "te = TransactionEncoder()\n",
    "txs_formatted = te.fit(txs_list).transform(txs_list)"
   ]
  },
  {
   "cell_type": "code",
   "execution_count": 12,
   "metadata": {},
   "outputs": [
    {
     "data": {
      "text/html": [
       "<div>\n",
       "<style scoped>\n",
       "    .dataframe tbody tr th:only-of-type {\n",
       "        vertical-align: middle;\n",
       "    }\n",
       "\n",
       "    .dataframe tbody tr th {\n",
       "        vertical-align: top;\n",
       "    }\n",
       "\n",
       "    .dataframe thead th {\n",
       "        text-align: right;\n",
       "    }\n",
       "</style>\n",
       "<table border=\"1\" class=\"dataframe\">\n",
       "  <thead>\n",
       "    <tr style=\"text-align: right;\">\n",
       "      <th></th>\n",
       "      <th>Alfajores</th>\n",
       "      <th>Bread</th>\n",
       "      <th>Brownie</th>\n",
       "      <th>Cake</th>\n",
       "      <th>Coffee</th>\n",
       "      <th>Cookies</th>\n",
       "      <th>Farm House</th>\n",
       "      <th>Hot chocolate</th>\n",
       "      <th>Juice</th>\n",
       "      <th>Medialuna</th>\n",
       "      <th>Muffin</th>\n",
       "      <th>NONE</th>\n",
       "      <th>Pastry</th>\n",
       "      <th>Sandwich</th>\n",
       "      <th>Scandinavian</th>\n",
       "      <th>Scone</th>\n",
       "      <th>Soup</th>\n",
       "      <th>Tea</th>\n",
       "      <th>Toast</th>\n",
       "      <th>Truffles</th>\n",
       "    </tr>\n",
       "  </thead>\n",
       "  <tbody>\n",
       "    <tr>\n",
       "      <th>0</th>\n",
       "      <td>False</td>\n",
       "      <td>True</td>\n",
       "      <td>False</td>\n",
       "      <td>False</td>\n",
       "      <td>False</td>\n",
       "      <td>False</td>\n",
       "      <td>False</td>\n",
       "      <td>False</td>\n",
       "      <td>False</td>\n",
       "      <td>False</td>\n",
       "      <td>False</td>\n",
       "      <td>False</td>\n",
       "      <td>False</td>\n",
       "      <td>False</td>\n",
       "      <td>False</td>\n",
       "      <td>False</td>\n",
       "      <td>False</td>\n",
       "      <td>False</td>\n",
       "      <td>False</td>\n",
       "      <td>False</td>\n",
       "    </tr>\n",
       "    <tr>\n",
       "      <th>1</th>\n",
       "      <td>False</td>\n",
       "      <td>False</td>\n",
       "      <td>False</td>\n",
       "      <td>False</td>\n",
       "      <td>False</td>\n",
       "      <td>False</td>\n",
       "      <td>False</td>\n",
       "      <td>False</td>\n",
       "      <td>False</td>\n",
       "      <td>False</td>\n",
       "      <td>False</td>\n",
       "      <td>False</td>\n",
       "      <td>False</td>\n",
       "      <td>False</td>\n",
       "      <td>True</td>\n",
       "      <td>False</td>\n",
       "      <td>False</td>\n",
       "      <td>False</td>\n",
       "      <td>False</td>\n",
       "      <td>False</td>\n",
       "    </tr>\n",
       "    <tr>\n",
       "      <th>2</th>\n",
       "      <td>False</td>\n",
       "      <td>False</td>\n",
       "      <td>False</td>\n",
       "      <td>False</td>\n",
       "      <td>False</td>\n",
       "      <td>True</td>\n",
       "      <td>False</td>\n",
       "      <td>True</td>\n",
       "      <td>False</td>\n",
       "      <td>False</td>\n",
       "      <td>False</td>\n",
       "      <td>False</td>\n",
       "      <td>False</td>\n",
       "      <td>False</td>\n",
       "      <td>False</td>\n",
       "      <td>False</td>\n",
       "      <td>False</td>\n",
       "      <td>False</td>\n",
       "      <td>False</td>\n",
       "      <td>False</td>\n",
       "    </tr>\n",
       "    <tr>\n",
       "      <th>3</th>\n",
       "      <td>False</td>\n",
       "      <td>False</td>\n",
       "      <td>False</td>\n",
       "      <td>False</td>\n",
       "      <td>False</td>\n",
       "      <td>False</td>\n",
       "      <td>False</td>\n",
       "      <td>False</td>\n",
       "      <td>False</td>\n",
       "      <td>False</td>\n",
       "      <td>True</td>\n",
       "      <td>False</td>\n",
       "      <td>False</td>\n",
       "      <td>False</td>\n",
       "      <td>False</td>\n",
       "      <td>False</td>\n",
       "      <td>False</td>\n",
       "      <td>False</td>\n",
       "      <td>False</td>\n",
       "      <td>False</td>\n",
       "    </tr>\n",
       "    <tr>\n",
       "      <th>4</th>\n",
       "      <td>False</td>\n",
       "      <td>True</td>\n",
       "      <td>False</td>\n",
       "      <td>False</td>\n",
       "      <td>True</td>\n",
       "      <td>False</td>\n",
       "      <td>False</td>\n",
       "      <td>False</td>\n",
       "      <td>False</td>\n",
       "      <td>False</td>\n",
       "      <td>False</td>\n",
       "      <td>False</td>\n",
       "      <td>True</td>\n",
       "      <td>False</td>\n",
       "      <td>False</td>\n",
       "      <td>False</td>\n",
       "      <td>False</td>\n",
       "      <td>False</td>\n",
       "      <td>False</td>\n",
       "      <td>False</td>\n",
       "    </tr>\n",
       "  </tbody>\n",
       "</table>\n",
       "</div>"
      ],
      "text/plain": [
       "   Alfajores  Bread  Brownie   Cake  Coffee  Cookies  Farm House  \\\n",
       "0      False   True    False  False   False    False       False   \n",
       "1      False  False    False  False   False    False       False   \n",
       "2      False  False    False  False   False     True       False   \n",
       "3      False  False    False  False   False    False       False   \n",
       "4      False   True    False  False    True    False       False   \n",
       "\n",
       "   Hot chocolate  Juice  Medialuna  Muffin   NONE  Pastry  Sandwich  \\\n",
       "0          False  False      False   False  False   False     False   \n",
       "1          False  False      False   False  False   False     False   \n",
       "2           True  False      False   False  False   False     False   \n",
       "3          False  False      False    True  False   False     False   \n",
       "4          False  False      False   False  False    True     False   \n",
       "\n",
       "   Scandinavian  Scone   Soup    Tea  Toast  Truffles  \n",
       "0         False  False  False  False  False     False  \n",
       "1          True  False  False  False  False     False  \n",
       "2         False  False  False  False  False     False  \n",
       "3         False  False  False  False  False     False  \n",
       "4         False  False  False  False  False     False  "
      ]
     },
     "execution_count": 12,
     "metadata": {},
     "output_type": "execute_result"
    }
   ],
   "source": [
    "df = pd.DataFrame(txs_formatted, columns=te.columns_)\n",
    "df.head()"
   ]
  },
  {
   "cell_type": "code",
   "execution_count": 13,
   "metadata": {},
   "outputs": [
    {
     "data": {
      "text/html": [
       "<div>\n",
       "<style scoped>\n",
       "    .dataframe tbody tr th:only-of-type {\n",
       "        vertical-align: middle;\n",
       "    }\n",
       "\n",
       "    .dataframe tbody tr th {\n",
       "        vertical-align: top;\n",
       "    }\n",
       "\n",
       "    .dataframe thead th {\n",
       "        text-align: right;\n",
       "    }\n",
       "</style>\n",
       "<table border=\"1\" class=\"dataframe\">\n",
       "  <thead>\n",
       "    <tr style=\"text-align: right;\">\n",
       "      <th></th>\n",
       "      <th>support</th>\n",
       "      <th>itemsets</th>\n",
       "    </tr>\n",
       "  </thead>\n",
       "  <tbody>\n",
       "    <tr>\n",
       "      <th>2</th>\n",
       "      <td>0.499504</td>\n",
       "      <td>(Coffee)</td>\n",
       "    </tr>\n",
       "    <tr>\n",
       "      <th>0</th>\n",
       "      <td>0.341644</td>\n",
       "      <td>(Bread)</td>\n",
       "    </tr>\n",
       "    <tr>\n",
       "      <th>9</th>\n",
       "      <td>0.148924</td>\n",
       "      <td>(Tea)</td>\n",
       "    </tr>\n",
       "    <tr>\n",
       "      <th>1</th>\n",
       "      <td>0.108439</td>\n",
       "      <td>(Cake)</td>\n",
       "    </tr>\n",
       "    <tr>\n",
       "      <th>10</th>\n",
       "      <td>0.093988</td>\n",
       "      <td>(Bread, Coffee)</td>\n",
       "    </tr>\n",
       "    <tr>\n",
       "      <th>7</th>\n",
       "      <td>0.089906</td>\n",
       "      <td>(Pastry)</td>\n",
       "    </tr>\n",
       "    <tr>\n",
       "      <th>6</th>\n",
       "      <td>0.083067</td>\n",
       "      <td>(NONE)</td>\n",
       "    </tr>\n",
       "    <tr>\n",
       "      <th>8</th>\n",
       "      <td>0.075014</td>\n",
       "      <td>(Sandwich)</td>\n",
       "    </tr>\n",
       "    <tr>\n",
       "      <th>5</th>\n",
       "      <td>0.064534</td>\n",
       "      <td>(Medialuna)</td>\n",
       "    </tr>\n",
       "    <tr>\n",
       "      <th>4</th>\n",
       "      <td>0.060894</td>\n",
       "      <td>(Hot chocolate)</td>\n",
       "    </tr>\n",
       "    <tr>\n",
       "      <th>11</th>\n",
       "      <td>0.057143</td>\n",
       "      <td>(Cake, Coffee)</td>\n",
       "    </tr>\n",
       "    <tr>\n",
       "      <th>3</th>\n",
       "      <td>0.056812</td>\n",
       "      <td>(Cookies)</td>\n",
       "    </tr>\n",
       "    <tr>\n",
       "      <th>12</th>\n",
       "      <td>0.052068</td>\n",
       "      <td>(Tea, Coffee)</td>\n",
       "    </tr>\n",
       "  </tbody>\n",
       "</table>\n",
       "</div>"
      ],
      "text/plain": [
       "     support         itemsets\n",
       "2   0.499504         (Coffee)\n",
       "0   0.341644          (Bread)\n",
       "9   0.148924            (Tea)\n",
       "1   0.108439           (Cake)\n",
       "10  0.093988  (Bread, Coffee)\n",
       "7   0.089906         (Pastry)\n",
       "6   0.083067           (NONE)\n",
       "8   0.075014       (Sandwich)\n",
       "5   0.064534      (Medialuna)\n",
       "4   0.060894  (Hot chocolate)\n",
       "11  0.057143   (Cake, Coffee)\n",
       "3   0.056812        (Cookies)\n",
       "12  0.052068    (Tea, Coffee)"
      ]
     },
     "execution_count": 13,
     "metadata": {},
     "output_type": "execute_result"
    }
   ],
   "source": [
    "apriori_df = apriori(df, min_support=0.05, use_colnames=True)\n",
    "apriori_df.sort_values(by='support', ascending=False)"
   ]
  },
  {
   "cell_type": "markdown",
   "metadata": {},
   "source": [
    "##### 7. ¿Cuáles son los 5 item con mayor soporte? ¿Cuánto tienen de soporte?"
   ]
  },
  {
   "cell_type": "markdown",
   "metadata": {},
   "source": [
    "Los items con mayor soporte son:"
   ]
  },
  {
   "cell_type": "code",
   "execution_count": 14,
   "metadata": {},
   "outputs": [
    {
     "data": {
      "text/html": [
       "<div>\n",
       "<style scoped>\n",
       "    .dataframe tbody tr th:only-of-type {\n",
       "        vertical-align: middle;\n",
       "    }\n",
       "\n",
       "    .dataframe tbody tr th {\n",
       "        vertical-align: top;\n",
       "    }\n",
       "\n",
       "    .dataframe thead th {\n",
       "        text-align: right;\n",
       "    }\n",
       "</style>\n",
       "<table border=\"1\" class=\"dataframe\">\n",
       "  <thead>\n",
       "    <tr style=\"text-align: right;\">\n",
       "      <th></th>\n",
       "      <th>support</th>\n",
       "      <th>itemsets</th>\n",
       "    </tr>\n",
       "  </thead>\n",
       "  <tbody>\n",
       "    <tr>\n",
       "      <th>2</th>\n",
       "      <td>0.499504</td>\n",
       "      <td>(Coffee)</td>\n",
       "    </tr>\n",
       "    <tr>\n",
       "      <th>0</th>\n",
       "      <td>0.341644</td>\n",
       "      <td>(Bread)</td>\n",
       "    </tr>\n",
       "    <tr>\n",
       "      <th>9</th>\n",
       "      <td>0.148924</td>\n",
       "      <td>(Tea)</td>\n",
       "    </tr>\n",
       "    <tr>\n",
       "      <th>1</th>\n",
       "      <td>0.108439</td>\n",
       "      <td>(Cake)</td>\n",
       "    </tr>\n",
       "    <tr>\n",
       "      <th>10</th>\n",
       "      <td>0.093988</td>\n",
       "      <td>(Bread, Coffee)</td>\n",
       "    </tr>\n",
       "  </tbody>\n",
       "</table>\n",
       "</div>"
      ],
      "text/plain": [
       "     support         itemsets\n",
       "2   0.499504         (Coffee)\n",
       "0   0.341644          (Bread)\n",
       "9   0.148924            (Tea)\n",
       "1   0.108439           (Cake)\n",
       "10  0.093988  (Bread, Coffee)"
      ]
     },
     "execution_count": 14,
     "metadata": {},
     "output_type": "execute_result"
    }
   ],
   "source": [
    "apriori_df.sort_values(by='support', ascending=False).head()"
   ]
  },
  {
   "cell_type": "markdown",
   "metadata": {},
   "source": [
    "##### 8. ¿Cuál es la regla de asociación con mayor confianza? Interpreta la confianza obtenida"
   ]
  },
  {
   "cell_type": "code",
   "execution_count": 15,
   "metadata": {},
   "outputs": [
    {
     "data": {
      "text/html": [
       "<div>\n",
       "<style scoped>\n",
       "    .dataframe tbody tr th:only-of-type {\n",
       "        vertical-align: middle;\n",
       "    }\n",
       "\n",
       "    .dataframe tbody tr th {\n",
       "        vertical-align: top;\n",
       "    }\n",
       "\n",
       "    .dataframe thead th {\n",
       "        text-align: right;\n",
       "    }\n",
       "</style>\n",
       "<table border=\"1\" class=\"dataframe\">\n",
       "  <thead>\n",
       "    <tr style=\"text-align: right;\">\n",
       "      <th></th>\n",
       "      <th>antecedents</th>\n",
       "      <th>consequents</th>\n",
       "      <th>antecedent support</th>\n",
       "      <th>consequent support</th>\n",
       "      <th>support</th>\n",
       "      <th>confidence</th>\n",
       "      <th>lift</th>\n",
       "      <th>leverage</th>\n",
       "      <th>conviction</th>\n",
       "    </tr>\n",
       "  </thead>\n",
       "  <tbody>\n",
       "    <tr>\n",
       "      <th>0</th>\n",
       "      <td>(Cake)</td>\n",
       "      <td>(Coffee)</td>\n",
       "      <td>0.108439</td>\n",
       "      <td>0.499504</td>\n",
       "      <td>0.057143</td>\n",
       "      <td>0.526958</td>\n",
       "      <td>1.054964</td>\n",
       "      <td>0.002977</td>\n",
       "      <td>1.058039</td>\n",
       "    </tr>\n",
       "  </tbody>\n",
       "</table>\n",
       "</div>"
      ],
      "text/plain": [
       "  antecedents consequents  antecedent support  consequent support   support  \\\n",
       "0      (Cake)    (Coffee)            0.108439            0.499504  0.057143   \n",
       "\n",
       "   confidence      lift  leverage  conviction  \n",
       "0    0.526958  1.054964  0.002977    1.058039  "
      ]
     },
     "execution_count": 15,
     "metadata": {},
     "output_type": "execute_result"
    }
   ],
   "source": [
    "rules_df = association_rules(apriori_df, metric=\"confidence\", min_threshold=0.3)\n",
    "rules_df[:1]"
   ]
  },
  {
   "cell_type": "markdown",
   "metadata": {},
   "source": [
    "La regla de asociación con mayor confianza es _Cake_ $\\rightarrow$ _Coffee_ con un valor de $0.526$, lo cual quiere decir que la probabilidad de que _Coffee_ este presente dado que _Cake_ esta presente es de $0.526$."
   ]
  },
  {
   "cell_type": "markdown",
   "metadata": {},
   "source": [
    "##### 9. ¿Cuál es la regla de asociación con menor confianza? Interpreta la confianza obtenida. ¿Qué estrategia recomiendas a negocio para aumentar la métrica de confianza?"
   ]
  },
  {
   "cell_type": "code",
   "execution_count": 16,
   "metadata": {},
   "outputs": [
    {
     "data": {
      "text/html": [
       "<div>\n",
       "<style scoped>\n",
       "    .dataframe tbody tr th:only-of-type {\n",
       "        vertical-align: middle;\n",
       "    }\n",
       "\n",
       "    .dataframe tbody tr th {\n",
       "        vertical-align: top;\n",
       "    }\n",
       "\n",
       "    .dataframe thead th {\n",
       "        text-align: right;\n",
       "    }\n",
       "</style>\n",
       "<table border=\"1\" class=\"dataframe\">\n",
       "  <thead>\n",
       "    <tr style=\"text-align: right;\">\n",
       "      <th></th>\n",
       "      <th>antecedents</th>\n",
       "      <th>consequents</th>\n",
       "      <th>antecedent support</th>\n",
       "      <th>consequent support</th>\n",
       "      <th>support</th>\n",
       "      <th>confidence</th>\n",
       "      <th>lift</th>\n",
       "      <th>leverage</th>\n",
       "      <th>conviction</th>\n",
       "    </tr>\n",
       "  </thead>\n",
       "  <tbody>\n",
       "    <tr>\n",
       "      <th>1</th>\n",
       "      <td>(Tea)</td>\n",
       "      <td>(Coffee)</td>\n",
       "      <td>0.148924</td>\n",
       "      <td>0.499504</td>\n",
       "      <td>0.052068</td>\n",
       "      <td>0.34963</td>\n",
       "      <td>0.699954</td>\n",
       "      <td>-0.02232</td>\n",
       "      <td>0.769556</td>\n",
       "    </tr>\n",
       "  </tbody>\n",
       "</table>\n",
       "</div>"
      ],
      "text/plain": [
       "  antecedents consequents  antecedent support  consequent support   support  \\\n",
       "1       (Tea)    (Coffee)            0.148924            0.499504  0.052068   \n",
       "\n",
       "   confidence      lift  leverage  conviction  \n",
       "1     0.34963  0.699954  -0.02232    0.769556  "
      ]
     },
     "execution_count": 16,
     "metadata": {},
     "output_type": "execute_result"
    }
   ],
   "source": [
    "rules_df[-1:]"
   ]
  },
  {
   "cell_type": "markdown",
   "metadata": {},
   "source": [
    "La regla de asociación con menor confianza es _Tea_ $\\rightarrow$ _Coffee_.\n",
    "\n",
    "* Interpretación: la probabilidad de que _Coffee_ este presente dado que _Tea_ esta presente es de  $0.349$.\n",
    "* Estreategia recomendada a negocio: En la compra de un _Café_ , tienes un 20% de descuento en la compra de un _Té_."
   ]
  },
  {
   "cell_type": "markdown",
   "metadata": {},
   "source": [
    "##### 10. Genera un scatterplot que tenga soporte en el eje x y confianza en el eje y coloreando por lift. ¿Cuál es la sección en la que deberíamos concentrarnos? Indica el mínimo de lift y mínimo de soporte. ¿Qué rango de porcentaje de confianza tienen esas reglas?"
   ]
  },
  {
   "cell_type": "code",
   "execution_count": 17,
   "metadata": {
    "scrolled": true
   },
   "outputs": [
    {
     "data": {
      "image/png": "[encoded data removed]",
      "text/plain": [
       "<Figure size 864x360 with 1 Axes>"
      ]
     },
     "metadata": {
      "needs_background": "light"
     },
     "output_type": "display_data"
    }
   ],
   "source": [
    "plt.figure(figsize=(12, 5))\n",
    "axes = plt.axes()\n",
    "sns.scatterplot(x=\"support\", y=\"confidence\", hue = \"lift\" ,s = 200, alpha = .9, palette = 'Set2',data=rules_df)\n",
    "axes.set_ylim([0, .8])\n",
    "axes.set_xlim([0,.09])\n",
    "axes.plot([.055],[.45],'o',ms=105,mec='r',mfc='none')\n",
    "plt.plot(np.repeat(0.047,16),np.arange(0,1.6,.1),'--')\n",
    "plt.plot(np.arange(0,.1,.01), np.repeat(0.28,10),'--')\n",
    "plt.legend(loc=\"lower right\", title='Lift')\n",
    "plt.title(\"Reglas de Asocicion\")\n",
    "plt.xlabel('Soporte')\n",
    "plt.ylabel('Confianza')\n",
    "plt.show()"
   ]
  },
  {
   "cell_type": "markdown",
   "metadata": {},
   "source": [
    "Deberiamos de concentrarnos en la sección dentro del circulo. Dado que son pocas reglas de asociación la grafica no aporta mucha información. El minimo confianza seria $0.28$ y el minmo soporte $0.47$. El rango de confianza de estas reglas va desde $\\approx (0.34,.52)$."
   ]
  }
 ],
 "metadata": {
  "kernelspec": {
   "display_name": "itam_md",
   "language": "python",
   "name": "itam_md"
  },
  "language_info": {
   "codemirror_mode": {
    "name": "ipython",
    "version": 3
   },
   "file_extension": ".py",
   "mimetype": "text/x-python",
   "name": "python",
   "nbconvert_exporter": "python",
   "pygments_lexer": "ipython3",
   "version": "3.7.4"
  }
 },
 "nbformat": 4,
 "nbformat_minor": 4
}

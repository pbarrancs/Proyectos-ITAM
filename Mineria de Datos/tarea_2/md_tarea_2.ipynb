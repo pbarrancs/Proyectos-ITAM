{
 "cells": [
  {
   "cell_type": "markdown",
   "metadata": {},
   "source": [
    "# Tarea 2 \n",
    "## Pablo Barranco Soto\n",
    "## 151528"
   ]
  },
  {
   "cell_type": "markdown",
   "metadata": {},
   "source": [
    "Utilizando los datos de Diabetes en mujeres de la India, queremos predecir si una mujer tendrá o no diabetes con las variables con las que contamos. Para esto primero cargamos los datos."
   ]
  },
  {
   "cell_type": "code",
   "execution_count": 1,
   "metadata": {},
   "outputs": [],
   "source": [
    "import pandas as pd\n",
    "import numpy as np\n",
    "import matplotlib.pyplot as plt\n",
    "import seaborn as sns\n",
    "from sklearn.model_selection import train_test_split\n",
    "from sklearn.tree import DecisionTreeClassifier, plot_tree\n",
    "from sklearn.model_selection import KFold\n",
    "from sklearn.model_selection import ParameterGrid, GridSearchCV\n",
    "from sklearn.metrics import precision_recall_curve, roc_auc_score, accuracy_score, f1_score, confusion_matrix, roc_curve\n",
    "from sklearn.model_selection import cross_val_predict\n",
    "from sklearn.model_selection import cross_validate\n",
    "from sklearn.model_selection import train_test_split"
   ]
  },
  {
   "cell_type": "code",
   "execution_count": 25,
   "metadata": {},
   "outputs": [],
   "source": [
    "# Importamos nuestros datos\n",
    "diabetes = pd.read_csv('data/diabetes.csv')\n",
    "\n",
    "# Damos formato al dataset\n",
    "diabetes.rename(columns={col: col.lower() for col in diabetes.columns.values}, inplace=True)\n",
    "diabetes.rename(columns={col: col.replace(' ','_').replace('/','_') for col in diabetes.columns.values}, inplace=True)\n",
    "\n",
    "# Fijamos la Semilla\n",
    "np.random.seed(20201101)"
   ]
  },
  {
   "cell_type": "code",
   "execution_count": 3,
   "metadata": {},
   "outputs": [],
   "source": [
    "# Preparamos los datos para introducir al modelo\n",
    "y = diabetes.outcome\n",
    "X = diabetes.drop(['outcome'], axis=1)"
   ]
  },
  {
   "cell_type": "markdown",
   "metadata": {},
   "source": [
    "## 1. ¿Cuál es la etiqueta positiva?"
   ]
  },
  {
   "cell_type": "markdown",
   "metadata": {},
   "source": [
    "<font color='blue'>La etiqueta positiva es $1$. Es decir si $\\textit{outcome} = 1$, el paciente observado padece de diabetes.</font>  "
   ]
  },
  {
   "cell_type": "markdown",
   "metadata": {},
   "source": [
    "## 2. Divide el conjunto de datos para que el 25% de los datos sean de pruebas. ¿Cuántas observaciones tienes en entrenamiento y pruebas?"
   ]
  },
  {
   "cell_type": "code",
   "execution_count": 4,
   "metadata": {
    "scrolled": true
   },
   "outputs": [
    {
     "name": "stdout",
     "output_type": "stream",
     "text": [
      "\n",
      "X_train, y_train:  ((576, 8), (576,))\n",
      "\n",
      "X_test, y_test:  ((192, 8), (192,))\n"
     ]
    }
   ],
   "source": [
    "# Train test split\n",
    "X_train, X_test, y_train, y_test =  train_test_split(X, y, test_size=0.25)\n",
    "print(\"\\nX_train, y_train: \", (X_train.shape, y_train.shape))\n",
    "print(\"\\nX_test, y_test: \", (X_test.shape, y_test.shape))"
   ]
  },
  {
   "cell_type": "markdown",
   "metadata": {},
   "source": [
    "<font color='blue'>En total tenemos 768 observaciones. Al separar el conjunto en _train_ y _test_ tenemos:\n",
    "* Observaciones de entrenamiento: 576\n",
    "* Observaciones de prueba: 192</font>"
   ]
  },
  {
   "cell_type": "markdown",
   "metadata": {},
   "source": [
    "## Utiliza un _GridSearchCV_ con los siguientes hiperparámetros:\n",
    "* Profundidad: 5,10,15\n",
    "* Mínimo número de elementos para definir una hoja: 3,5,7\n",
    "* Cross validation: 10\n",
    "* Scoring: Eficiencia"
   ]
  },
  {
   "cell_type": "code",
   "execution_count": 5,
   "metadata": {
    "scrolled": true
   },
   "outputs": [
    {
     "data": {
      "text/plain": [
       "GridSearchCV(cv=10, error_score=nan,\n",
       "             estimator=DecisionTreeClassifier(ccp_alpha=0.0, class_weight=None,\n",
       "                                              criterion='gini', max_depth=None,\n",
       "                                              max_features=None,\n",
       "                                              max_leaf_nodes=None,\n",
       "                                              min_impurity_decrease=0.0,\n",
       "                                              min_impurity_split=None,\n",
       "                                              min_samples_leaf=1,\n",
       "                                              min_samples_split=2,\n",
       "                                              min_weight_fraction_leaf=0.0,\n",
       "                                              presort='deprecated',\n",
       "                                              random_state=None,\n",
       "                                              splitter='best'),\n",
       "             iid='deprecated', n_jobs=-1,\n",
       "             param_grid={'max_depth': [5, 10, 15],\n",
       "                         'min_samples_leaf': [3, 5, 7]},\n",
       "             pre_dispatch='2*n_jobs', refit=True, return_train_score=True,\n",
       "             scoring='precision', verbose=0)"
      ]
     },
     "execution_count": 5,
     "metadata": {},
     "output_type": "execute_result"
    }
   ],
   "source": [
    "# Creamos el Grid Search\n",
    "dt = DecisionTreeClassifier()\n",
    "grid = {'min_samples_leaf': [3,5,7], 'max_depth' : [5,10,15]}\n",
    "gs = GridSearchCV(dt, param_grid=grid, scoring='precision', cv=10, n_jobs=-1, return_train_score=True)\n",
    "gs.fit(X_train, y_train)"
   ]
  },
  {
   "cell_type": "code",
   "execution_count": 6,
   "metadata": {},
   "outputs": [
    {
     "data": {
      "text/plain": [
       "{'max_depth': 5, 'min_samples_leaf': 7}"
      ]
     },
     "execution_count": 6,
     "metadata": {},
     "output_type": "execute_result"
    }
   ],
   "source": [
    "#Mejores parametros de la busqueda\n",
    "gs.best_params_"
   ]
  },
  {
   "cell_type": "markdown",
   "metadata": {},
   "source": [
    "## 3. ¿Cuántos modelos generarás?"
   ]
  },
  {
   "cell_type": "markdown",
   "metadata": {},
   "source": [
    "<font color='blue'> Generaremos en total $3 * 3 = 9$ modelos. </font>"
   ]
  },
  {
   "cell_type": "markdown",
   "metadata": {},
   "source": [
    "## 4. ¿Cuál es la variable que está en la raíz?"
   ]
  },
  {
   "cell_type": "code",
   "execution_count": 7,
   "metadata": {
    "scrolled": true
   },
   "outputs": [
    {
     "data": {
      "text/plain": [
       "<Figure size 432x288 with 0 Axes>"
      ]
     },
     "metadata": {},
     "output_type": "display_data"
    },
    {
     "data": {
      "image/png": "[encoded data removed]",
      "text/plain": [
       "<Figure size 864x864 with 1 Axes>"
      ]
     },
     "metadata": {
      "needs_background": "light"
     },
     "output_type": "display_data"
    }
   ],
   "source": [
    "# Ploteamos el arbol para ver la raiz\n",
    "plt.clf() \n",
    "fig, ax = plt.subplots(figsize=(12, 12))\n",
    "plot_tree(gs.best_estimator_,max_depth=2,feature_names = list(diabetes.columns), fontsize=10, filled = True)\n",
    "plt.show()"
   ]
  },
  {
   "cell_type": "markdown",
   "metadata": {},
   "source": [
    "<font color='blue'> Podemos ver que la variable de la raiz es _glucose_.<font>"
   ]
  },
  {
   "cell_type": "markdown",
   "metadata": {},
   "source": [
    "## 5. ¿Cuáles son las 3 variables que aportan más información a la predicción?"
   ]
  },
  {
   "cell_type": "code",
   "execution_count": 8,
   "metadata": {
    "scrolled": true
   },
   "outputs": [
    {
     "data": {
      "text/html": [
       "<div>\n",
       "<style scoped>\n",
       "    .dataframe tbody tr th:only-of-type {\n",
       "        vertical-align: middle;\n",
       "    }\n",
       "\n",
       "    .dataframe tbody tr th {\n",
       "        vertical-align: top;\n",
       "    }\n",
       "\n",
       "    .dataframe thead th {\n",
       "        text-align: right;\n",
       "    }\n",
       "</style>\n",
       "<table border=\"1\" class=\"dataframe\">\n",
       "  <thead>\n",
       "    <tr style=\"text-align: right;\">\n",
       "      <th></th>\n",
       "      <th>feature</th>\n",
       "      <th>importance</th>\n",
       "    </tr>\n",
       "  </thead>\n",
       "  <tbody>\n",
       "    <tr>\n",
       "      <th>1</th>\n",
       "      <td>glucose</td>\n",
       "      <td>0.620417</td>\n",
       "    </tr>\n",
       "    <tr>\n",
       "      <th>5</th>\n",
       "      <td>bmi</td>\n",
       "      <td>0.165616</td>\n",
       "    </tr>\n",
       "    <tr>\n",
       "      <th>6</th>\n",
       "      <td>diabetes_pedigree_function</td>\n",
       "      <td>0.065305</td>\n",
       "    </tr>\n",
       "  </tbody>\n",
       "</table>\n",
       "</div>"
      ],
      "text/plain": [
       "                      feature  importance\n",
       "1                     glucose    0.620417\n",
       "5                         bmi    0.165616\n",
       "6  diabetes_pedigree_function    0.065305"
      ]
     },
     "execution_count": 8,
     "metadata": {},
     "output_type": "execute_result"
    }
   ],
   "source": [
    "# Creamos un data frame con la importancia de cada variable\n",
    "feature_importances_df = pd.DataFrame({'feature': X.columns.values, \n",
    "                                       'importance': gs.best_estimator_.feature_importances_})\n",
    "feature_importances_df.sort_values(by=\"importance\", ascending=False, inplace = True)\n",
    "feature_importances_df[0:3]"
   ]
  },
  {
   "cell_type": "markdown",
   "metadata": {},
   "source": [
    "<font color='blue'> Las Variables que mas aportan informacion a la prediccion son $\\textit{glucose}$, $\\textit{bmi}$ y $\\textit{diabetes_pedigree_function}$.</font>"
   ]
  },
  {
   "cell_type": "markdown",
   "metadata": {},
   "source": [
    "Ahora eliminamos las variables que tienen menos del 7% de importancia y volvemos a generar un _GridSearchCV_ con los mismos hiperparámetros que configuraste anteriormente.\n"
   ]
  },
  {
   "cell_type": "code",
   "execution_count": 9,
   "metadata": {},
   "outputs": [
    {
     "data": {
      "text/plain": [
       "GridSearchCV(cv=10, error_score=nan,\n",
       "             estimator=DecisionTreeClassifier(ccp_alpha=0.0, class_weight=None,\n",
       "                                              criterion='gini', max_depth=None,\n",
       "                                              max_features=None,\n",
       "                                              max_leaf_nodes=None,\n",
       "                                              min_impurity_decrease=0.0,\n",
       "                                              min_impurity_split=None,\n",
       "                                              min_samples_leaf=1,\n",
       "                                              min_samples_split=2,\n",
       "                                              min_weight_fraction_leaf=0.0,\n",
       "                                              presort='deprecated',\n",
       "                                              random_state=None,\n",
       "                                              splitter='best'),\n",
       "             iid='deprecated', n_jobs=-1,\n",
       "             param_grid={'max_depth': [5, 10, 15],\n",
       "                         'min_samples_leaf': [3, 5, 7]},\n",
       "             pre_dispatch='2*n_jobs', refit=True, return_train_score=True,\n",
       "             scoring='precision', verbose=0)"
      ]
     },
     "execution_count": 9,
     "metadata": {},
     "output_type": "execute_result"
    }
   ],
   "source": [
    "# Filtramos las variables que se quedan y las ponemos en un nuevo df X_train_2\n",
    "se_quedan = list(feature_importances_df.feature[feature_importances_df.importance >= 0.07])\n",
    "X_train_2 = X_train.filter(se_quedan, axis = 1)\n",
    "X_test_2 = X_test.filter(se_quedan, axis = 1)\n",
    "\n",
    "# Volvemos a hacer el grid Search con los mismos parametros\n",
    "gs.fit(X_train_2, y_train)"
   ]
  },
  {
   "cell_type": "markdown",
   "metadata": {},
   "source": [
    "## 6. ¿Qué hiperparámetros tiene el mejor modelo?"
   ]
  },
  {
   "cell_type": "code",
   "execution_count": 10,
   "metadata": {
    "scrolled": true
   },
   "outputs": [
    {
     "data": {
      "text/plain": [
       "{'max_depth': 5, 'min_samples_leaf': 5}"
      ]
     },
     "execution_count": 10,
     "metadata": {},
     "output_type": "execute_result"
    }
   ],
   "source": [
    "gs.best_params_"
   ]
  },
  {
   "cell_type": "markdown",
   "metadata": {},
   "source": [
    "<font color='blue'> Los mejores parametros fueron:\n",
    "* Profundidad = 5\n",
    "* Minino elementos en una hoja = 5 <font>"
   ]
  },
  {
   "cell_type": "markdown",
   "metadata": {},
   "source": [
    "## 7. ¿Cuál es el punto de corte del modelo que cumple con las restricciones de negocio (4 decimales)?"
   ]
  },
  {
   "cell_type": "markdown",
   "metadata": {},
   "source": [
    "Restriccion de negocio : _Podemos tener estrictamente menos del 10% (sin incluirlo) en equivocaciones del tipo: predicción diabetes y no tener diabetes._"
   ]
  },
  {
   "cell_type": "code",
   "execution_count": 11,
   "metadata": {},
   "outputs": [],
   "source": [
    "# Hacemos predicciones con nuestro modelo entrenado\n",
    "predictions_labels = gs.predict(X_test_2)\n",
    "predictions_scores = gs.predict_proba(X_test_2)\n",
    "fpr, tpr, thresholds = roc_curve(y_test, predictions_scores[:,1], pos_label=1)"
   ]
  },
  {
   "cell_type": "code",
   "execution_count": 12,
   "metadata": {},
   "outputs": [
    {
     "data": {
      "text/html": [
       "<div>\n",
       "<style scoped>\n",
       "    .dataframe tbody tr th:only-of-type {\n",
       "        vertical-align: middle;\n",
       "    }\n",
       "\n",
       "    .dataframe tbody tr th {\n",
       "        vertical-align: top;\n",
       "    }\n",
       "\n",
       "    .dataframe thead th {\n",
       "        text-align: right;\n",
       "    }\n",
       "</style>\n",
       "<table border=\"1\" class=\"dataframe\">\n",
       "  <thead>\n",
       "    <tr style=\"text-align: right;\">\n",
       "      <th></th>\n",
       "      <th>threshold</th>\n",
       "      <th>tpr</th>\n",
       "      <th>fpr</th>\n",
       "      <th>tnr</th>\n",
       "      <th>fnr</th>\n",
       "      <th>precision</th>\n",
       "      <th>recall</th>\n",
       "    </tr>\n",
       "  </thead>\n",
       "  <tbody>\n",
       "    <tr>\n",
       "      <th>0</th>\n",
       "      <td>2.000000</td>\n",
       "      <td>0.000000</td>\n",
       "      <td>0.000000</td>\n",
       "      <td>1.000000</td>\n",
       "      <td>1.000000</td>\n",
       "      <td>NaN</td>\n",
       "      <td>0.000000</td>\n",
       "    </tr>\n",
       "    <tr>\n",
       "      <th>1</th>\n",
       "      <td>1.000000</td>\n",
       "      <td>0.035714</td>\n",
       "      <td>0.000000</td>\n",
       "      <td>1.000000</td>\n",
       "      <td>0.964286</td>\n",
       "      <td>1.000000</td>\n",
       "      <td>0.035714</td>\n",
       "    </tr>\n",
       "    <tr>\n",
       "      <th>2</th>\n",
       "      <td>0.892857</td>\n",
       "      <td>0.309524</td>\n",
       "      <td>0.046296</td>\n",
       "      <td>0.953704</td>\n",
       "      <td>0.690476</td>\n",
       "      <td>0.869888</td>\n",
       "      <td>0.309524</td>\n",
       "    </tr>\n",
       "    <tr>\n",
       "      <th>3</th>\n",
       "      <td>0.800000</td>\n",
       "      <td>0.321429</td>\n",
       "      <td>0.046296</td>\n",
       "      <td>0.953704</td>\n",
       "      <td>0.678571</td>\n",
       "      <td>0.874101</td>\n",
       "      <td>0.321429</td>\n",
       "    </tr>\n",
       "    <tr>\n",
       "      <th>4</th>\n",
       "      <td>0.750000</td>\n",
       "      <td>0.333333</td>\n",
       "      <td>0.055556</td>\n",
       "      <td>0.944444</td>\n",
       "      <td>0.666667</td>\n",
       "      <td>0.857143</td>\n",
       "      <td>0.333333</td>\n",
       "    </tr>\n",
       "    <tr>\n",
       "      <th>5</th>\n",
       "      <td>0.714286</td>\n",
       "      <td>0.333333</td>\n",
       "      <td>0.064815</td>\n",
       "      <td>0.935185</td>\n",
       "      <td>0.666667</td>\n",
       "      <td>0.837209</td>\n",
       "      <td>0.333333</td>\n",
       "    </tr>\n",
       "    <tr>\n",
       "      <th>6</th>\n",
       "      <td>0.666667</td>\n",
       "      <td>0.404762</td>\n",
       "      <td>0.092593</td>\n",
       "      <td>0.907407</td>\n",
       "      <td>0.595238</td>\n",
       "      <td>0.813830</td>\n",
       "      <td>0.404762</td>\n",
       "    </tr>\n",
       "    <tr>\n",
       "      <th>7</th>\n",
       "      <td>0.545455</td>\n",
       "      <td>0.428571</td>\n",
       "      <td>0.120370</td>\n",
       "      <td>0.879630</td>\n",
       "      <td>0.571429</td>\n",
       "      <td>0.780723</td>\n",
       "      <td>0.428571</td>\n",
       "    </tr>\n",
       "    <tr>\n",
       "      <th>8</th>\n",
       "      <td>0.544118</td>\n",
       "      <td>0.607143</td>\n",
       "      <td>0.231481</td>\n",
       "      <td>0.768519</td>\n",
       "      <td>0.392857</td>\n",
       "      <td>0.723975</td>\n",
       "      <td>0.607143</td>\n",
       "    </tr>\n",
       "    <tr>\n",
       "      <th>9</th>\n",
       "      <td>0.500000</td>\n",
       "      <td>0.619048</td>\n",
       "      <td>0.250000</td>\n",
       "      <td>0.750000</td>\n",
       "      <td>0.380952</td>\n",
       "      <td>0.712329</td>\n",
       "      <td>0.619048</td>\n",
       "    </tr>\n",
       "    <tr>\n",
       "      <th>10</th>\n",
       "      <td>0.285714</td>\n",
       "      <td>0.642857</td>\n",
       "      <td>0.259259</td>\n",
       "      <td>0.740741</td>\n",
       "      <td>0.357143</td>\n",
       "      <td>0.712610</td>\n",
       "      <td>0.642857</td>\n",
       "    </tr>\n",
       "    <tr>\n",
       "      <th>11</th>\n",
       "      <td>0.261905</td>\n",
       "      <td>0.809524</td>\n",
       "      <td>0.453704</td>\n",
       "      <td>0.546296</td>\n",
       "      <td>0.190476</td>\n",
       "      <td>0.640838</td>\n",
       "      <td>0.809524</td>\n",
       "    </tr>\n",
       "    <tr>\n",
       "      <th>12</th>\n",
       "      <td>0.260870</td>\n",
       "      <td>0.821429</td>\n",
       "      <td>0.481481</td>\n",
       "      <td>0.518519</td>\n",
       "      <td>0.178571</td>\n",
       "      <td>0.630457</td>\n",
       "      <td>0.821429</td>\n",
       "    </tr>\n",
       "    <tr>\n",
       "      <th>13</th>\n",
       "      <td>0.250000</td>\n",
       "      <td>0.821429</td>\n",
       "      <td>0.518519</td>\n",
       "      <td>0.481481</td>\n",
       "      <td>0.178571</td>\n",
       "      <td>0.613031</td>\n",
       "      <td>0.821429</td>\n",
       "    </tr>\n",
       "    <tr>\n",
       "      <th>14</th>\n",
       "      <td>0.208333</td>\n",
       "      <td>0.857143</td>\n",
       "      <td>0.546296</td>\n",
       "      <td>0.453704</td>\n",
       "      <td>0.142857</td>\n",
       "      <td>0.610745</td>\n",
       "      <td>0.857143</td>\n",
       "    </tr>\n",
       "    <tr>\n",
       "      <th>15</th>\n",
       "      <td>0.200000</td>\n",
       "      <td>0.880952</td>\n",
       "      <td>0.555556</td>\n",
       "      <td>0.444444</td>\n",
       "      <td>0.119048</td>\n",
       "      <td>0.613260</td>\n",
       "      <td>0.880952</td>\n",
       "    </tr>\n",
       "    <tr>\n",
       "      <th>16</th>\n",
       "      <td>0.089744</td>\n",
       "      <td>0.964286</td>\n",
       "      <td>0.740741</td>\n",
       "      <td>0.259259</td>\n",
       "      <td>0.035714</td>\n",
       "      <td>0.565555</td>\n",
       "      <td>0.964286</td>\n",
       "    </tr>\n",
       "    <tr>\n",
       "      <th>17</th>\n",
       "      <td>0.086957</td>\n",
       "      <td>0.976190</td>\n",
       "      <td>0.750000</td>\n",
       "      <td>0.250000</td>\n",
       "      <td>0.023810</td>\n",
       "      <td>0.565517</td>\n",
       "      <td>0.976190</td>\n",
       "    </tr>\n",
       "    <tr>\n",
       "      <th>18</th>\n",
       "      <td>0.000000</td>\n",
       "      <td>1.000000</td>\n",
       "      <td>1.000000</td>\n",
       "      <td>0.000000</td>\n",
       "      <td>0.000000</td>\n",
       "      <td>0.500000</td>\n",
       "      <td>1.000000</td>\n",
       "    </tr>\n",
       "  </tbody>\n",
       "</table>\n",
       "</div>"
      ],
      "text/plain": [
       "    threshold       tpr       fpr       tnr       fnr  precision    recall\n",
       "0    2.000000  0.000000  0.000000  1.000000  1.000000        NaN  0.000000\n",
       "1    1.000000  0.035714  0.000000  1.000000  0.964286   1.000000  0.035714\n",
       "2    0.892857  0.309524  0.046296  0.953704  0.690476   0.869888  0.309524\n",
       "3    0.800000  0.321429  0.046296  0.953704  0.678571   0.874101  0.321429\n",
       "4    0.750000  0.333333  0.055556  0.944444  0.666667   0.857143  0.333333\n",
       "5    0.714286  0.333333  0.064815  0.935185  0.666667   0.837209  0.333333\n",
       "6    0.666667  0.404762  0.092593  0.907407  0.595238   0.813830  0.404762\n",
       "7    0.545455  0.428571  0.120370  0.879630  0.571429   0.780723  0.428571\n",
       "8    0.544118  0.607143  0.231481  0.768519  0.392857   0.723975  0.607143\n",
       "9    0.500000  0.619048  0.250000  0.750000  0.380952   0.712329  0.619048\n",
       "10   0.285714  0.642857  0.259259  0.740741  0.357143   0.712610  0.642857\n",
       "11   0.261905  0.809524  0.453704  0.546296  0.190476   0.640838  0.809524\n",
       "12   0.260870  0.821429  0.481481  0.518519  0.178571   0.630457  0.821429\n",
       "13   0.250000  0.821429  0.518519  0.481481  0.178571   0.613031  0.821429\n",
       "14   0.208333  0.857143  0.546296  0.453704  0.142857   0.610745  0.857143\n",
       "15   0.200000  0.880952  0.555556  0.444444  0.119048   0.613260  0.880952\n",
       "16   0.089744  0.964286  0.740741  0.259259  0.035714   0.565555  0.964286\n",
       "17   0.086957  0.976190  0.750000  0.250000  0.023810   0.565517  0.976190\n",
       "18   0.000000  1.000000  1.000000  0.000000  0.000000   0.500000  1.000000"
      ]
     },
     "execution_count": 12,
     "metadata": {},
     "output_type": "execute_result"
    }
   ],
   "source": [
    "# Construimos tabla de Metricas\n",
    "metricas = pd.DataFrame({'threshold': thresholds, 'tpr': tpr, 'fpr': fpr})\n",
    "metricas['tnr'] = 1 - metricas.fpr\n",
    "metricas['fnr'] = 1 - metricas.tpr\n",
    "metricas['precision'] = metricas.tpr/(metricas.tpr + metricas.fpr)\n",
    "metricas['recall'] = metricas.tpr/(metricas.tpr + metricas.fnr)\n",
    "metricas"
   ]
  },
  {
   "cell_type": "code",
   "execution_count": 13,
   "metadata": {},
   "outputs": [],
   "source": [
    "threshold = metricas.threshold[metricas.fpr < .1].min()"
   ]
  },
  {
   "cell_type": "code",
   "execution_count": 14,
   "metadata": {},
   "outputs": [
    {
     "data": {
      "text/plain": [
       "0.6666666666666666"
      ]
     },
     "execution_count": 14,
     "metadata": {},
     "output_type": "execute_result"
    }
   ],
   "source": [
    "labels_threshold = [0 if score < threshold else 1 for score in predictions_scores[:,1]]\n",
    "threshold"
   ]
  },
  {
   "cell_type": "markdown",
   "metadata": {},
   "source": [
    "<font color='blue'>El punto de corte es en 0.6667<font>"
   ]
  },
  {
   "cell_type": "markdown",
   "metadata": {},
   "source": [
    "## 8. ¿Qué porcentaje de FNR tendremos?"
   ]
  },
  {
   "cell_type": "code",
   "execution_count": 15,
   "metadata": {},
   "outputs": [
    {
     "data": {
      "text/plain": [
       "6    0.595238\n",
       "Name: fnr, dtype: float64"
      ]
     },
     "execution_count": 15,
     "metadata": {},
     "output_type": "execute_result"
    }
   ],
   "source": [
    "# Lo buscamos en la tabla\n",
    "metricas.fnr[metricas.threshold == threshold]"
   ]
  },
  {
   "cell_type": "code",
   "execution_count": 26,
   "metadata": {},
   "outputs": [],
   "source": [
    "# PAra comprobar calculamos los TP FP TN FN manualmente \n",
    "df = pd.DataFrame({'predicted': labels_threshold, 'true_label': y_test})\n",
    "df['tp'] = df[['predicted','true_label']].apply(lambda x: 1 if x.true_label == 1 and x.predicted == x.true_label else 0, axis=1)\n",
    "df['fn'] = df[['predicted','true_label']].apply(lambda x: 1 if x.true_label == 1 and x.predicted != x.true_label else 0, axis=1)\n",
    "df['tn'] = df[['predicted','true_label']].apply(lambda x: 1 if x.true_label == 0 and x.predicted == x.true_label else 0, axis=1)\n",
    "df['fp'] = df[['predicted','true_label']].apply(lambda x: 1 if x.true_label == 0 and x.predicted != x.true_label else 0, axis=1)\n",
    "TP = df.tp.sum()\n",
    "FP = df.fp.sum()\n",
    "TN = df.tn.sum()\n",
    "FN = df.fn.sum()"
   ]
  },
  {
   "cell_type": "code",
   "execution_count": 17,
   "metadata": {
    "scrolled": true
   },
   "outputs": [
    {
     "data": {
      "text/plain": [
       "0.5952380952380952"
      ]
     },
     "execution_count": 17,
     "metadata": {},
     "output_type": "execute_result"
    }
   ],
   "source": [
    "# Porcentaje FNR\n",
    "FN/(FN+TP)"
   ]
  },
  {
   "cell_type": "markdown",
   "metadata": {},
   "source": [
    "<font color='blue'>El _FNR_ obtenido en este momento es $0.059$<font>"
   ]
  },
  {
   "cell_type": "markdown",
   "metadata": {},
   "source": [
    "## 9. ¿Qué eficiencia tiene el modelo en ese punto?"
   ]
  },
  {
   "cell_type": "code",
   "execution_count": 18,
   "metadata": {},
   "outputs": [
    {
     "data": {
      "text/plain": [
       "6    0.81383\n",
       "Name: precision, dtype: float64"
      ]
     },
     "execution_count": 18,
     "metadata": {},
     "output_type": "execute_result"
    }
   ],
   "source": [
    "metricas.precision[metricas.threshold == threshold]"
   ]
  },
  {
   "cell_type": "code",
   "execution_count": 19,
   "metadata": {},
   "outputs": [
    {
     "data": {
      "text/plain": [
       "0.7727272727272727"
      ]
     },
     "execution_count": 19,
     "metadata": {},
     "output_type": "execute_result"
    }
   ],
   "source": [
    "TP/(TP+FP)"
   ]
  },
  {
   "cell_type": "markdown",
   "metadata": {},
   "source": [
    "<font color='blue'> no se porque razon obtengo diferentes resultados al observar el valor de la tabla y compararrlo con el calculo de la presicion/ eficiencia en ese punto. Algo debi haber hecho mal pero confio mas en el calculado $0.77$<font>"
   ]
  },
  {
   "cell_type": "markdown",
   "metadata": {},
   "source": [
    "## 10. ¿Cuál es la matriz de confusión asociada a ese punto de corte?"
   ]
  },
  {
   "cell_type": "markdown",
   "metadata": {},
   "source": [
    "<font color='blue'> La matriz de connfusión asociada a este punto de corte se muestra a continuación.<font>"
   ]
  },
  {
   "cell_type": "code",
   "execution_count": 20,
   "metadata": {
    "scrolled": true
   },
   "outputs": [
    {
     "data": {
      "image/png": "[encoded data removed]",
      "text/plain": [
       "<Figure size 360x288 with 2 Axes>"
      ]
     },
     "metadata": {
      "needs_background": "light"
     },
     "output_type": "display_data"
    }
   ],
   "source": [
    "mat = confusion_matrix(y_test, labels_threshold)\n",
    "# Ploteamos la Matriz\n",
    "figure = plt.figure(figsize=(5, 4))\n",
    "sns.heatmap(mat, annot=True,cmap=plt.cm.Blues)\n",
    "plt.tight_layout()\n",
    "plt.ylabel('True label')\n",
    "plt.title('Confusion Matrix')\n",
    "plt.xlabel('Predicted label')\n",
    "plt.show()"
   ]
  }
 ],
 "metadata": {
  "kernelspec": {
   "display_name": "itam_md",
   "language": "python",
   "name": "itam_md"
  },
  "language_info": {
   "codemirror_mode": {
    "name": "ipython",
    "version": 3
   },
   "file_extension": ".py",
   "mimetype": "text/x-python",
   "name": "python",
   "nbconvert_exporter": "python",
   "pygments_lexer": "ipython3",
   "version": "3.7.4"
  }
 },
 "nbformat": 4,
 "nbformat_minor": 2
}

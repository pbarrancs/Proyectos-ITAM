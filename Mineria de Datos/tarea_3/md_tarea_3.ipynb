{
 "cells": [
  {
   "cell_type": "markdown",
   "metadata": {},
   "source": [
    "# Tarea 3\n",
    "## Pablo Barranco Soto\n",
    "## 151528"
   ]
  },
  {
   "cell_type": "markdown",
   "metadata": {},
   "source": [
    "Utilizando los datos de clientes de un centro comercial generarás clusters a través del algoritmo de K-means."
   ]
  },
  {
   "cell_type": "markdown",
   "metadata": {},
   "source": [
    "Utilizando un random seed de 20201122:"
   ]
  },
  {
   "cell_type": "code",
   "execution_count": 1,
   "metadata": {},
   "outputs": [],
   "source": [
    "# Importamos paquetes\n",
    "import pandas as pd\n",
    "import numpy as np\n",
    "import matplotlib.pyplot as plt\n",
    "import seaborn as sns\n",
    "\n",
    "\n",
    "from sklearn.preprocessing import scale \n",
    "from sklearn.cluster import KMeans \n",
    "\n",
    "# Fijamos la Semilla\n",
    "np.random.seed(20201122)"
   ]
  },
  {
   "cell_type": "code",
   "execution_count": 2,
   "metadata": {},
   "outputs": [],
   "source": [
    "# Importamos nuestros datos\n",
    "data = pd.read_csv('data/Mall_Customers.csv')\n",
    "\n",
    "# Damos formato al dataset\n",
    "data.rename(columns={col: col.lower() for col in data.columns.values}, inplace=True)\n",
    "data.rename(columns={col: col.replace(' ','_').replace('/','_') for col in data.columns.values}, inplace=True)\n",
    "data.rename(columns={'annual_income_(k$)': 'annual_income', 'spending_score_(1-100)': 'spending_score'},inplace = True)"
   ]
  },
  {
   "cell_type": "markdown",
   "metadata": {},
   "source": [
    "## 1. Convierte la columna gender a binaria cambiando male a 0 y female a 1."
   ]
  },
  {
   "cell_type": "code",
   "execution_count": 3,
   "metadata": {},
   "outputs": [
    {
     "data": {
      "text/html": [
       "<div>\n",
       "<style scoped>\n",
       "    .dataframe tbody tr th:only-of-type {\n",
       "        vertical-align: middle;\n",
       "    }\n",
       "\n",
       "    .dataframe tbody tr th {\n",
       "        vertical-align: top;\n",
       "    }\n",
       "\n",
       "    .dataframe thead th {\n",
       "        text-align: right;\n",
       "    }\n",
       "</style>\n",
       "<table border=\"1\" class=\"dataframe\">\n",
       "  <thead>\n",
       "    <tr style=\"text-align: right;\">\n",
       "      <th></th>\n",
       "      <th>customerid</th>\n",
       "      <th>gender</th>\n",
       "      <th>age</th>\n",
       "      <th>annual_income</th>\n",
       "      <th>spending_score</th>\n",
       "    </tr>\n",
       "  </thead>\n",
       "  <tbody>\n",
       "    <tr>\n",
       "      <th>0</th>\n",
       "      <td>1</td>\n",
       "      <td>0</td>\n",
       "      <td>19</td>\n",
       "      <td>15</td>\n",
       "      <td>39</td>\n",
       "    </tr>\n",
       "    <tr>\n",
       "      <th>1</th>\n",
       "      <td>2</td>\n",
       "      <td>0</td>\n",
       "      <td>21</td>\n",
       "      <td>15</td>\n",
       "      <td>81</td>\n",
       "    </tr>\n",
       "    <tr>\n",
       "      <th>2</th>\n",
       "      <td>3</td>\n",
       "      <td>1</td>\n",
       "      <td>20</td>\n",
       "      <td>16</td>\n",
       "      <td>6</td>\n",
       "    </tr>\n",
       "    <tr>\n",
       "      <th>3</th>\n",
       "      <td>4</td>\n",
       "      <td>1</td>\n",
       "      <td>23</td>\n",
       "      <td>16</td>\n",
       "      <td>77</td>\n",
       "    </tr>\n",
       "    <tr>\n",
       "      <th>4</th>\n",
       "      <td>5</td>\n",
       "      <td>1</td>\n",
       "      <td>31</td>\n",
       "      <td>17</td>\n",
       "      <td>40</td>\n",
       "    </tr>\n",
       "  </tbody>\n",
       "</table>\n",
       "</div>"
      ],
      "text/plain": [
       "   customerid gender  age  annual_income  spending_score\n",
       "0           1      0   19             15              39\n",
       "1           2      0   21             15              81\n",
       "2           3      1   20             16               6\n",
       "3           4      1   23             16              77\n",
       "4           5      1   31             17              40"
      ]
     },
     "execution_count": 3,
     "metadata": {},
     "output_type": "execute_result"
    }
   ],
   "source": [
    "data.gender.mask(data.gender == 'Female', 1, inplace=True)\n",
    "data.gender.mask(data.gender == 'Male', 0, inplace=True)\n",
    "data.head()"
   ]
  },
  {
   "cell_type": "markdown",
   "metadata": {},
   "source": [
    "## 2. Escala los datos de edad, salario y el score de gasto con el método scale de sckikit-learn."
   ]
  },
  {
   "cell_type": "code",
   "execution_count": 4,
   "metadata": {},
   "outputs": [
    {
     "data": {
      "text/plain": [
       "array([[-1.28103541, -1.73899919,  1.19570407],\n",
       "       [-1.3528021 , -1.70082976, -1.71591298],\n",
       "       [-1.13750203, -1.70082976,  1.04041783],\n",
       "       [-0.56336851, -1.66266033, -0.39597992]])"
      ]
     },
     "execution_count": 4,
     "metadata": {},
     "output_type": "execute_result"
    }
   ],
   "source": [
    "data.drop(['customerid','gender'],axis=1,inplace = True)\n",
    "data_scaled = scale(data)\n",
    "data_scaled[1:5]"
   ]
  },
  {
   "cell_type": "markdown",
   "metadata": {},
   "source": [
    "## 3. Genera clusters utilizando k-means con la siguiente configuración de hiperparámetros:\n",
    "* ### Grupos: 3,4,5,6,7,8,9,10,13\n",
    "* ### Máximo de iteraciones: 50"
   ]
  },
  {
   "cell_type": "code",
   "execution_count": 5,
   "metadata": {},
   "outputs": [],
   "source": [
    "sse = []\n",
    "K = range(3,14)\n",
    "\n",
    "for k in K:\n",
    "    kmeans = KMeans(n_clusters=k, max_iter=50)\n",
    "    kmeans.fit(data_scaled)\n",
    "    sse.append(kmeans.inertia_)"
   ]
  },
  {
   "cell_type": "markdown",
   "metadata": {},
   "source": [
    "### 4. Genera una gráfica de codo e indica cuál es el número de grupos óptimos"
   ]
  },
  {
   "cell_type": "code",
   "execution_count": 6,
   "metadata": {
    "scrolled": true
   },
   "outputs": [
    {
     "data": {
      "image/png": "[encoded data removed]",
      "text/plain": [
       "<Figure size 720x360 with 1 Axes>"
      ]
     },
     "metadata": {
      "needs_background": "light"
     },
     "output_type": "display_data"
    }
   ],
   "source": [
    "# seleccionamos una k\n",
    "k = 4\n",
    "\n",
    "plt.figure(figsize=(10,5))\n",
    "plt.plot(np.arange(3,14), sse, 'bx-')\n",
    "plt.axvline(x = k,color= 'k',linestyle = '--')\n",
    "plt.xticks([3,4,5,6,7,8,9,10,11,12,13])\n",
    "plt.xlabel('k')\n",
    "plt.ylabel(\"sse\")\n",
    "plt.title(\"Elbow graph\")\n",
    "plt.show()"
   ]
  },
  {
   "cell_type": "markdown",
   "metadata": {},
   "source": [
    "A mi parecer el optimo se encuentra en k = 5, aunque es dificil ver pues parece no haber un codo definido."
   ]
  },
  {
   "cell_type": "code",
   "execution_count": 7,
   "metadata": {},
   "outputs": [
    {
     "data": {
      "text/plain": [
       "KMeans(algorithm='auto', copy_x=True, init='k-means++', max_iter=50,\n",
       "       n_clusters=4, n_init=10, n_jobs=None, precompute_distances='auto',\n",
       "       random_state=None, tol=0.0001, verbose=0)"
      ]
     },
     "execution_count": 7,
     "metadata": {},
     "output_type": "execute_result"
    }
   ],
   "source": [
    "kmeans = KMeans(n_clusters=k, max_iter=50)\n",
    "kmeans.fit(data_scaled)"
   ]
  },
  {
   "cell_type": "markdown",
   "metadata": {},
   "source": [
    "### 5. Cuántos elementos tiene cada grupo"
   ]
  },
  {
   "cell_type": "code",
   "execution_count": 8,
   "metadata": {},
   "outputs": [],
   "source": [
    "labels = kmeans.labels_\n",
    "data['group'] = labels"
   ]
  },
  {
   "cell_type": "code",
   "execution_count": 9,
   "metadata": {},
   "outputs": [
    {
     "data": {
      "text/html": [
       "<div>\n",
       "<style scoped>\n",
       "    .dataframe tbody tr th:only-of-type {\n",
       "        vertical-align: middle;\n",
       "    }\n",
       "\n",
       "    .dataframe tbody tr th {\n",
       "        vertical-align: top;\n",
       "    }\n",
       "\n",
       "    .dataframe thead th {\n",
       "        text-align: right;\n",
       "    }\n",
       "</style>\n",
       "<table border=\"1\" class=\"dataframe\">\n",
       "  <thead>\n",
       "    <tr style=\"text-align: right;\">\n",
       "      <th></th>\n",
       "      <th>group</th>\n",
       "      <th>count</th>\n",
       "    </tr>\n",
       "  </thead>\n",
       "  <tbody>\n",
       "    <tr>\n",
       "      <th>0</th>\n",
       "      <td>0</td>\n",
       "      <td>65</td>\n",
       "    </tr>\n",
       "    <tr>\n",
       "      <th>1</th>\n",
       "      <td>1</td>\n",
       "      <td>40</td>\n",
       "    </tr>\n",
       "    <tr>\n",
       "      <th>2</th>\n",
       "      <td>2</td>\n",
       "      <td>57</td>\n",
       "    </tr>\n",
       "    <tr>\n",
       "      <th>3</th>\n",
       "      <td>3</td>\n",
       "      <td>38</td>\n",
       "    </tr>\n",
       "  </tbody>\n",
       "</table>\n",
       "</div>"
      ],
      "text/plain": [
       "   group  count\n",
       "0      0     65\n",
       "1      1     40\n",
       "2      2     57\n",
       "3      3     38"
      ]
     },
     "execution_count": 9,
     "metadata": {},
     "output_type": "execute_result"
    }
   ],
   "source": [
    "data.groupby(['group'])['age']\\\n",
    ".count()\\\n",
    ".reset_index()\\\n",
    ".rename(columns={'age': 'count'})"
   ]
  },
  {
   "cell_type": "markdown",
   "metadata": {},
   "source": [
    "### 6. Cuáles son los centroides de cada grupo"
   ]
  },
  {
   "cell_type": "code",
   "execution_count": 10,
   "metadata": {},
   "outputs": [
    {
     "data": {
      "text/plain": [
       "array([[ 1.08616125, -0.49056525, -0.39717443],\n",
       "       [-0.42880597,  0.97484722,  1.21608539],\n",
       "       [-0.96249203, -0.78476346,  0.39202966],\n",
       "       [ 0.03720536,  0.99011499, -1.18875705]])"
      ]
     },
     "execution_count": 10,
     "metadata": {},
     "output_type": "execute_result"
    }
   ],
   "source": [
    "centroids = kmeans.cluster_centers_\n",
    "centroids"
   ]
  },
  {
   "cell_type": "markdown",
   "metadata": {},
   "source": [
    "* Grupo 0 $[ 1.20, -0.23, -0.05]$\n",
    "* Grupo 1 $[-0.42,  0.97,  1.21]$\n",
    "* Grupo 2 $[0.07,  0.97, -1.19]$\n",
    "* Grupo 3 $[-0.98, -0.74, 0.46]$\n",
    "* Grupo 4 $[-0.53 , -1.29, -1.23]$"
   ]
  },
  {
   "cell_type": "markdown",
   "metadata": {},
   "source": [
    "### 7. Cuántas iteraciones utilizó el algoritmo"
   ]
  },
  {
   "cell_type": "code",
   "execution_count": 11,
   "metadata": {},
   "outputs": [
    {
     "data": {
      "text/plain": [
       "8"
      ]
     },
     "execution_count": 11,
     "metadata": {},
     "output_type": "execute_result"
    }
   ],
   "source": [
    "kmeans.n_iter_"
   ]
  },
  {
   "cell_type": "markdown",
   "metadata": {},
   "source": [
    "### 8. Grafica en la escala original de los datos el salario y el score de gasto utilizando un color por cada grupo e incluyendo los centroides."
   ]
  },
  {
   "cell_type": "code",
   "execution_count": 12,
   "metadata": {},
   "outputs": [],
   "source": [
    "\n",
    "# age\n",
    "m_1 = data.age.mean()\n",
    "s_1 = data.age.std()\n",
    "\n",
    "# annual_income\n",
    "m_2 = data.annual_income.mean()\n",
    "s_2 = data.annual_income.std()\n",
    "\n",
    "# spending_score\n",
    "m_3 = data.spending_score.mean()\n",
    "s_3 = data.spending_score.std()\n",
    "\n",
    "\n",
    "centroids_unescaled = pd.DataFrame({'age': centroids[:,0]*s_1 + m_1,\n",
    "                                    'annual_income': centroids[:,1]*s_2 + m_2,\n",
    "                                    'spending_score':centroids[:,2]*s_3 + m_3,\n",
    "                                    'group': np.repeat('C',k)})\n",
    "\n",
    "all_data = data.append(centroids_unescaled)"
   ]
  },
  {
   "cell_type": "code",
   "execution_count": 13,
   "metadata": {
    "scrolled": true
   },
   "outputs": [
    {
     "data": {
      "image/png": "[encoded data removed]",
      "text/plain": [
       "<Figure size 720x360 with 1 Axes>"
      ]
     },
     "metadata": {
      "needs_background": "light"
     },
     "output_type": "display_data"
    }
   ],
   "source": [
    "plt.figure(figsize=(10,5))\n",
    "sns.scatterplot(x='annual_income', y='spending_score', hue=\"group\" ,data=all_data)\n",
    "plt.xlabel('Ingreso Anual')\n",
    "plt.ylabel('Score de Gasto')\n",
    "plt.title('ScatterPlot 2D')\n",
    "plt.show()"
   ]
  },
  {
   "cell_type": "markdown",
   "metadata": {},
   "source": [
    "La visualización presentada a continuacion se hizo por curiosidad."
   ]
  },
  {
   "cell_type": "code",
   "execution_count": 14,
   "metadata": {
    "scrolled": true
   },
   "outputs": [
    {
     "data": {
      "image/png": "[encoded data removed]",
      "text/plain": [
       "<Figure size 720x360 with 1 Axes>"
      ]
     },
     "metadata": {
      "needs_background": "light"
     },
     "output_type": "display_data"
    }
   ],
   "source": [
    "# Grafica en 3D\n",
    "fig = plt.figure(figsize=(10,5))\n",
    "fig.canvas.set_window_title('ScatterPlot K_means')\n",
    "fig.suptitle('Datos clasificados en escala original', fontsize=16)\n",
    "ax = fig.add_subplot(111, projection = '3d')\n",
    "\n",
    "\n",
    "# grupo 1\n",
    "x_1 = data.loc[data['group'] == 0,'age']\n",
    "y_1 = data.loc[data['group'] == 0,'annual_income']\n",
    "z_1 = data.loc[data['group'] == 0,'spending_score']\n",
    "\n",
    "# grupo 2\n",
    "x_2 = data.loc[data['group'] == 1,'age']\n",
    "y_2 = data.loc[data['group'] == 1,'annual_income']\n",
    "z_2 = data.loc[data['group'] == 1,'spending_score']\n",
    "\n",
    "# grupo 3\n",
    "x_3 = data.loc[data['group'] == 2,'age']\n",
    "y_3 = data.loc[data['group'] == 2,'annual_income']\n",
    "z_3= data.loc[data['group'] == 2,'spending_score']\n",
    "\n",
    "# grupo 4\n",
    "x_4 = data.loc[data['group'] == 3,'age']\n",
    "y_4 = data.loc[data['group'] == 3,'annual_income']\n",
    "z_4 = data.loc[data['group'] == 3,'spending_score']\n",
    "\n",
    "# grupo 5\n",
    "x_5 = data.loc[data['group'] == 4,'age']\n",
    "y_5 = data.loc[data['group'] == 4,'annual_income']\n",
    "z_5 = data.loc[data['group'] == 4,'spending_score']\n",
    "\n",
    "# centroides\n",
    "x_6 = all_data.loc[all_data['group'] == 'C','age']\n",
    "y_6 = all_data.loc[all_data['group'] == 'C','annual_income']\n",
    "z_6 = all_data.loc[all_data['group'] == 'C','spending_score']\n",
    "\n",
    "\n",
    "ax.set_xlabel(\"age\")\n",
    "ax.set_ylabel(\"annual_income\")\n",
    "ax.set_zlabel(\"spending_score\")\n",
    "\n",
    "\n",
    "ax.scatter(x_1, y_1, z_1, c='c', marker='o', alpha = 0.3 , linewidths = 3.5)\n",
    "ax.scatter(x_2, y_2, z_2, c='b', marker='s', alpha = 0.3 , linewidths = 3.5)\n",
    "ax.scatter(x_3, y_3, z_3, c='g', marker='^', alpha = 0.3 , linewidths = 3.5)\n",
    "ax.scatter(x_4, y_4, z_4, c='m', marker='d', alpha = 0.3 , linewidths = 3.5)\n",
    "ax.scatter(x_5, y_5, z_5, c='k', marker='*', alpha = 0.3 , linewidths = 3.5)\n",
    "ax.scatter(x_6, y_6, z_6, c='r', marker= '$c$', linewidths = 2)\n",
    "ax.view_init(40, 0)\n",
    "\n"
   ]
  },
  {
   "cell_type": "code",
   "execution_count": 15,
   "metadata": {},
   "outputs": [],
   "source": [
    "\n",
    "# Display grafica en 3D dinamica\n",
    "\n",
    "%matplotlib qt\n",
    "\n",
    "fig = plt.figure(figsize=(10,5))\n",
    "fig.canvas.set_window_title('ScatterPlot K_means')\n",
    "fig.suptitle('Datos clasificados en escala original', fontsize=16)\n",
    "\n",
    "ax = fig.add_subplot(111, projection = '3d')\n",
    "ax.set_xlabel(\"age\")\n",
    "ax.set_ylabel(\"annual_income\")\n",
    "ax.set_zlabel(\"spending_score\")\n",
    "ax.scatter(x_1, y_1, z_1, c='c', marker='o', alpha = 0.3 , linewidths = 3.5)\n",
    "ax.scatter(x_2, y_2, z_2, c='b', marker='s', alpha = 0.3 , linewidths = 3.5)\n",
    "ax.scatter(x_3, y_3, z_3, c='g', marker='^', alpha = 0.3 , linewidths = 3.5)\n",
    "ax.scatter(x_4, y_4, z_4, c='m', marker='d', alpha = 0.3 , linewidths = 3.5)\n",
    "ax.scatter(x_5, y_5, z_5, c='k', marker='*', alpha = 0.3 , linewidths = 3.5)\n",
    "ax.scatter(x_6, y_6, z_6, c='r', marker= '$c$', linewidths = 2)\n",
    "ax.view_init(20, 45)\n",
    "\n",
    "plt.show()"
   ]
  },
  {
   "cell_type": "markdown",
   "metadata": {},
   "source": [
    "### 9. Genera un describe a cada grupo, ¿cuáles son las 3 características más importantes de cada grupo con respecto a las variables con las que realizamos los grupos?"
   ]
  },
  {
   "cell_type": "markdown",
   "metadata": {},
   "source": [
    ">  * #### Grupo 0"
   ]
  },
  {
   "cell_type": "code",
   "execution_count": 16,
   "metadata": {
    "scrolled": true
   },
   "outputs": [
    {
     "data": {
      "text/html": [
       "<div>\n",
       "<style scoped>\n",
       "    .dataframe tbody tr th:only-of-type {\n",
       "        vertical-align: middle;\n",
       "    }\n",
       "\n",
       "    .dataframe tbody tr th {\n",
       "        vertical-align: top;\n",
       "    }\n",
       "\n",
       "    .dataframe thead th {\n",
       "        text-align: right;\n",
       "    }\n",
       "</style>\n",
       "<table border=\"1\" class=\"dataframe\">\n",
       "  <thead>\n",
       "    <tr style=\"text-align: right;\">\n",
       "      <th></th>\n",
       "      <th>age</th>\n",
       "      <th>annual_income</th>\n",
       "      <th>spending_score</th>\n",
       "      <th>group</th>\n",
       "    </tr>\n",
       "  </thead>\n",
       "  <tbody>\n",
       "    <tr>\n",
       "      <th>count</th>\n",
       "      <td>65.000000</td>\n",
       "      <td>65.000000</td>\n",
       "      <td>65.000000</td>\n",
       "      <td>65.0</td>\n",
       "    </tr>\n",
       "    <tr>\n",
       "      <th>mean</th>\n",
       "      <td>53.984615</td>\n",
       "      <td>47.707692</td>\n",
       "      <td>39.969231</td>\n",
       "      <td>0.0</td>\n",
       "    </tr>\n",
       "    <tr>\n",
       "      <th>std</th>\n",
       "      <td>9.418221</td>\n",
       "      <td>14.648723</td>\n",
       "      <td>16.405953</td>\n",
       "      <td>0.0</td>\n",
       "    </tr>\n",
       "    <tr>\n",
       "      <th>min</th>\n",
       "      <td>35.000000</td>\n",
       "      <td>18.000000</td>\n",
       "      <td>3.000000</td>\n",
       "      <td>0.0</td>\n",
       "    </tr>\n",
       "    <tr>\n",
       "      <th>25%</th>\n",
       "      <td>48.000000</td>\n",
       "      <td>39.000000</td>\n",
       "      <td>32.000000</td>\n",
       "      <td>0.0</td>\n",
       "    </tr>\n",
       "    <tr>\n",
       "      <th>50%</th>\n",
       "      <td>52.000000</td>\n",
       "      <td>49.000000</td>\n",
       "      <td>46.000000</td>\n",
       "      <td>0.0</td>\n",
       "    </tr>\n",
       "    <tr>\n",
       "      <th>75%</th>\n",
       "      <td>63.000000</td>\n",
       "      <td>60.000000</td>\n",
       "      <td>51.000000</td>\n",
       "      <td>0.0</td>\n",
       "    </tr>\n",
       "    <tr>\n",
       "      <th>max</th>\n",
       "      <td>70.000000</td>\n",
       "      <td>79.000000</td>\n",
       "      <td>60.000000</td>\n",
       "      <td>0.0</td>\n",
       "    </tr>\n",
       "  </tbody>\n",
       "</table>\n",
       "</div>"
      ],
      "text/plain": [
       "             age  annual_income  spending_score  group\n",
       "count  65.000000      65.000000       65.000000   65.0\n",
       "mean   53.984615      47.707692       39.969231    0.0\n",
       "std     9.418221      14.648723       16.405953    0.0\n",
       "min    35.000000      18.000000        3.000000    0.0\n",
       "25%    48.000000      39.000000       32.000000    0.0\n",
       "50%    52.000000      49.000000       46.000000    0.0\n",
       "75%    63.000000      60.000000       51.000000    0.0\n",
       "max    70.000000      79.000000       60.000000    0.0"
      ]
     },
     "execution_count": 16,
     "metadata": {},
     "output_type": "execute_result"
    }
   ],
   "source": [
    "data[data['group'] == 0].describe()"
   ]
  },
  {
   "cell_type": "markdown",
   "metadata": {},
   "source": [
    "* $\\textit{media }(\\text{age, annual_income, spending_score}) = [39.87,86.10,19.35]$ resulta ser el centroide del grupo 0\n",
    "* $\\textit{std }(\\text{age, annual_income, spending_score}) = [10.93,16.72,11.61]$ con lo cual vemos que su mayor disperción es con respecto a la variable _ingreso mensual_.\n",
    "* $\\textit{min}(\\text{spending_score}) = 1$, resulta ser el menor del dataset, con lo cual podemos pensar que es el grupo asociado al menor gasto."
   ]
  },
  {
   "cell_type": "markdown",
   "metadata": {},
   "source": [
    "> * #### Grupo 1"
   ]
  },
  {
   "cell_type": "code",
   "execution_count": 17,
   "metadata": {},
   "outputs": [
    {
     "data": {
      "text/html": [
       "<div>\n",
       "<style scoped>\n",
       "    .dataframe tbody tr th:only-of-type {\n",
       "        vertical-align: middle;\n",
       "    }\n",
       "\n",
       "    .dataframe tbody tr th {\n",
       "        vertical-align: top;\n",
       "    }\n",
       "\n",
       "    .dataframe thead th {\n",
       "        text-align: right;\n",
       "    }\n",
       "</style>\n",
       "<table border=\"1\" class=\"dataframe\">\n",
       "  <thead>\n",
       "    <tr style=\"text-align: right;\">\n",
       "      <th></th>\n",
       "      <th>age</th>\n",
       "      <th>annual_income</th>\n",
       "      <th>spending_score</th>\n",
       "      <th>group</th>\n",
       "    </tr>\n",
       "  </thead>\n",
       "  <tbody>\n",
       "    <tr>\n",
       "      <th>count</th>\n",
       "      <td>40.000000</td>\n",
       "      <td>40.000000</td>\n",
       "      <td>40.000000</td>\n",
       "      <td>40.0</td>\n",
       "    </tr>\n",
       "    <tr>\n",
       "      <th>mean</th>\n",
       "      <td>32.875000</td>\n",
       "      <td>86.100000</td>\n",
       "      <td>81.525000</td>\n",
       "      <td>1.0</td>\n",
       "    </tr>\n",
       "    <tr>\n",
       "      <th>std</th>\n",
       "      <td>3.857643</td>\n",
       "      <td>16.339036</td>\n",
       "      <td>9.999968</td>\n",
       "      <td>0.0</td>\n",
       "    </tr>\n",
       "    <tr>\n",
       "      <th>min</th>\n",
       "      <td>27.000000</td>\n",
       "      <td>69.000000</td>\n",
       "      <td>58.000000</td>\n",
       "      <td>1.0</td>\n",
       "    </tr>\n",
       "    <tr>\n",
       "      <th>25%</th>\n",
       "      <td>30.000000</td>\n",
       "      <td>74.750000</td>\n",
       "      <td>74.000000</td>\n",
       "      <td>1.0</td>\n",
       "    </tr>\n",
       "    <tr>\n",
       "      <th>50%</th>\n",
       "      <td>32.000000</td>\n",
       "      <td>78.500000</td>\n",
       "      <td>83.000000</td>\n",
       "      <td>1.0</td>\n",
       "    </tr>\n",
       "    <tr>\n",
       "      <th>75%</th>\n",
       "      <td>36.000000</td>\n",
       "      <td>94.000000</td>\n",
       "      <td>90.000000</td>\n",
       "      <td>1.0</td>\n",
       "    </tr>\n",
       "    <tr>\n",
       "      <th>max</th>\n",
       "      <td>40.000000</td>\n",
       "      <td>137.000000</td>\n",
       "      <td>97.000000</td>\n",
       "      <td>1.0</td>\n",
       "    </tr>\n",
       "  </tbody>\n",
       "</table>\n",
       "</div>"
      ],
      "text/plain": [
       "             age  annual_income  spending_score  group\n",
       "count  40.000000      40.000000       40.000000   40.0\n",
       "mean   32.875000      86.100000       81.525000    1.0\n",
       "std     3.857643      16.339036        9.999968    0.0\n",
       "min    27.000000      69.000000       58.000000    1.0\n",
       "25%    30.000000      74.750000       74.000000    1.0\n",
       "50%    32.000000      78.500000       83.000000    1.0\n",
       "75%    36.000000      94.000000       90.000000    1.0\n",
       "max    40.000000     137.000000       97.000000    1.0"
      ]
     },
     "execution_count": 17,
     "metadata": {},
     "output_type": "execute_result"
    }
   ],
   "source": [
    "data[data['group'] == 1].describe()"
   ]
  },
  {
   "cell_type": "markdown",
   "metadata": {},
   "source": [
    "* $\\textit{Media }(\\text{age, annual_income, spending_score}) = [25.18,41.09,62.24]$ resulta ser el centroide del grupo 1\n",
    "* $\\textit{std }(\\text{age, annual_income, spending_score}) = [5.50,16.81,16.59]$ con lo cual podemos pensar que es un grupo con poca variacion en la edad que ronda los 25 años. Y donde es mas disperso es en el ingreso anual y su score de gasto.\n",
    "* $\\textit{count}(\\text{group}_1) = 54$ con lo cual vemos que es el grupo con mayor población."
   ]
  },
  {
   "cell_type": "markdown",
   "metadata": {},
   "source": [
    "> * #### Grupo 2"
   ]
  },
  {
   "cell_type": "code",
   "execution_count": 18,
   "metadata": {},
   "outputs": [
    {
     "data": {
      "text/html": [
       "<div>\n",
       "<style scoped>\n",
       "    .dataframe tbody tr th:only-of-type {\n",
       "        vertical-align: middle;\n",
       "    }\n",
       "\n",
       "    .dataframe tbody tr th {\n",
       "        vertical-align: top;\n",
       "    }\n",
       "\n",
       "    .dataframe thead th {\n",
       "        text-align: right;\n",
       "    }\n",
       "</style>\n",
       "<table border=\"1\" class=\"dataframe\">\n",
       "  <thead>\n",
       "    <tr style=\"text-align: right;\">\n",
       "      <th></th>\n",
       "      <th>age</th>\n",
       "      <th>annual_income</th>\n",
       "      <th>spending_score</th>\n",
       "      <th>group</th>\n",
       "    </tr>\n",
       "  </thead>\n",
       "  <tbody>\n",
       "    <tr>\n",
       "      <th>count</th>\n",
       "      <td>57.000000</td>\n",
       "      <td>57.000000</td>\n",
       "      <td>57.000000</td>\n",
       "      <td>57.0</td>\n",
       "    </tr>\n",
       "    <tr>\n",
       "      <th>mean</th>\n",
       "      <td>25.438596</td>\n",
       "      <td>40.000000</td>\n",
       "      <td>60.298246</td>\n",
       "      <td>2.0</td>\n",
       "    </tr>\n",
       "    <tr>\n",
       "      <th>std</th>\n",
       "      <td>5.707193</td>\n",
       "      <td>17.031483</td>\n",
       "      <td>18.434212</td>\n",
       "      <td>0.0</td>\n",
       "    </tr>\n",
       "    <tr>\n",
       "      <th>min</th>\n",
       "      <td>18.000000</td>\n",
       "      <td>15.000000</td>\n",
       "      <td>6.000000</td>\n",
       "      <td>2.0</td>\n",
       "    </tr>\n",
       "    <tr>\n",
       "      <th>25%</th>\n",
       "      <td>21.000000</td>\n",
       "      <td>24.000000</td>\n",
       "      <td>48.000000</td>\n",
       "      <td>2.0</td>\n",
       "    </tr>\n",
       "    <tr>\n",
       "      <th>50%</th>\n",
       "      <td>24.000000</td>\n",
       "      <td>40.000000</td>\n",
       "      <td>56.000000</td>\n",
       "      <td>2.0</td>\n",
       "    </tr>\n",
       "    <tr>\n",
       "      <th>75%</th>\n",
       "      <td>31.000000</td>\n",
       "      <td>57.000000</td>\n",
       "      <td>73.000000</td>\n",
       "      <td>2.0</td>\n",
       "    </tr>\n",
       "    <tr>\n",
       "      <th>max</th>\n",
       "      <td>38.000000</td>\n",
       "      <td>67.000000</td>\n",
       "      <td>99.000000</td>\n",
       "      <td>2.0</td>\n",
       "    </tr>\n",
       "  </tbody>\n",
       "</table>\n",
       "</div>"
      ],
      "text/plain": [
       "             age  annual_income  spending_score  group\n",
       "count  57.000000      57.000000       57.000000   57.0\n",
       "mean   25.438596      40.000000       60.298246    2.0\n",
       "std     5.707193      17.031483       18.434212    0.0\n",
       "min    18.000000      15.000000        6.000000    2.0\n",
       "25%    21.000000      24.000000       48.000000    2.0\n",
       "50%    24.000000      40.000000       56.000000    2.0\n",
       "75%    31.000000      57.000000       73.000000    2.0\n",
       "max    38.000000      67.000000       99.000000    2.0"
      ]
     },
     "execution_count": 18,
     "metadata": {},
     "output_type": "execute_result"
    }
   ],
   "source": [
    "data[data['group'] == 2].describe()"
   ]
  },
  {
   "cell_type": "markdown",
   "metadata": {},
   "source": [
    "* $\\textit{Media }(\\text{age, annual_income, spending_score}) = [55.63,54.38,48.85]$ resulta ser el centroide del grupo 2\n",
    "* $\\textit{std }(\\text{age, annual_income, spending_score}) = [8.91,8.81,6.30]$ con lo cual podemos pensar que es un compacto.\n",
    "* $\\textit{max}(\\text{age}) = 70$, siendo el dato mas viejo del data set, con lo cual podriamos pensar que es un grupo categorizado por edad adulta."
   ]
  },
  {
   "cell_type": "markdown",
   "metadata": {},
   "source": [
    "> * #### Grupo 3"
   ]
  },
  {
   "cell_type": "code",
   "execution_count": 19,
   "metadata": {},
   "outputs": [
    {
     "data": {
      "text/html": [
       "<div>\n",
       "<style scoped>\n",
       "    .dataframe tbody tr th:only-of-type {\n",
       "        vertical-align: middle;\n",
       "    }\n",
       "\n",
       "    .dataframe tbody tr th {\n",
       "        vertical-align: top;\n",
       "    }\n",
       "\n",
       "    .dataframe thead th {\n",
       "        text-align: right;\n",
       "    }\n",
       "</style>\n",
       "<table border=\"1\" class=\"dataframe\">\n",
       "  <thead>\n",
       "    <tr style=\"text-align: right;\">\n",
       "      <th></th>\n",
       "      <th>age</th>\n",
       "      <th>annual_income</th>\n",
       "      <th>spending_score</th>\n",
       "      <th>group</th>\n",
       "    </tr>\n",
       "  </thead>\n",
       "  <tbody>\n",
       "    <tr>\n",
       "      <th>count</th>\n",
       "      <td>38.000000</td>\n",
       "      <td>38.000000</td>\n",
       "      <td>38.000000</td>\n",
       "      <td>38.0</td>\n",
       "    </tr>\n",
       "    <tr>\n",
       "      <th>mean</th>\n",
       "      <td>39.368421</td>\n",
       "      <td>86.500000</td>\n",
       "      <td>19.578947</td>\n",
       "      <td>3.0</td>\n",
       "    </tr>\n",
       "    <tr>\n",
       "      <th>std</th>\n",
       "      <td>10.617225</td>\n",
       "      <td>16.761845</td>\n",
       "      <td>11.684204</td>\n",
       "      <td>0.0</td>\n",
       "    </tr>\n",
       "    <tr>\n",
       "      <th>min</th>\n",
       "      <td>19.000000</td>\n",
       "      <td>64.000000</td>\n",
       "      <td>1.000000</td>\n",
       "      <td>3.0</td>\n",
       "    </tr>\n",
       "    <tr>\n",
       "      <th>25%</th>\n",
       "      <td>34.000000</td>\n",
       "      <td>75.250000</td>\n",
       "      <td>10.500000</td>\n",
       "      <td>3.0</td>\n",
       "    </tr>\n",
       "    <tr>\n",
       "      <th>50%</th>\n",
       "      <td>40.500000</td>\n",
       "      <td>79.500000</td>\n",
       "      <td>17.000000</td>\n",
       "      <td>3.0</td>\n",
       "    </tr>\n",
       "    <tr>\n",
       "      <th>75%</th>\n",
       "      <td>46.750000</td>\n",
       "      <td>96.000000</td>\n",
       "      <td>27.750000</td>\n",
       "      <td>3.0</td>\n",
       "    </tr>\n",
       "    <tr>\n",
       "      <th>max</th>\n",
       "      <td>59.000000</td>\n",
       "      <td>137.000000</td>\n",
       "      <td>42.000000</td>\n",
       "      <td>3.0</td>\n",
       "    </tr>\n",
       "  </tbody>\n",
       "</table>\n",
       "</div>"
      ],
      "text/plain": [
       "             age  annual_income  spending_score  group\n",
       "count  38.000000      38.000000       38.000000   38.0\n",
       "mean   39.368421      86.500000       19.578947    3.0\n",
       "std    10.617225      16.761845       11.684204    0.0\n",
       "min    19.000000      64.000000        1.000000    3.0\n",
       "25%    34.000000      75.250000       10.500000    3.0\n",
       "50%    40.500000      79.500000       17.000000    3.0\n",
       "75%    46.750000      96.000000       27.750000    3.0\n",
       "max    59.000000     137.000000       42.000000    3.0"
      ]
     },
     "execution_count": 19,
     "metadata": {},
     "output_type": "execute_result"
    }
   ],
   "source": [
    "data[data['group'] == 3].describe()"
   ]
  },
  {
   "cell_type": "markdown",
   "metadata": {},
   "source": [
    "* $\\textit{Media }(\\text{age, annual_income, spending_score}) = [32.87,86.10,81.52]$ resulta ser el centroide del grupo 3\n",
    "* $\\textit{std }(\\text{age, annual_income, spending_score}) = [3.85,16.33,9.99]$ con lo cual podemos pensar que es un grupo con poca variación en la edad pero alta en ingreso anual y score de gasto.\n",
    "* $\\textit{max}(\\text{annual_income}) = 137$, siendo el dato con mayor ingreso anual del data set, con lo cual podriamos pensar que es un grupo categorizado por alto ingreso mensual."
   ]
  },
  {
   "cell_type": "markdown",
   "metadata": {},
   "source": [
    "> * ### Grupo 4"
   ]
  },
  {
   "cell_type": "code",
   "execution_count": 20,
   "metadata": {},
   "outputs": [
    {
     "data": {
      "text/html": [
       "<div>\n",
       "<style scoped>\n",
       "    .dataframe tbody tr th:only-of-type {\n",
       "        vertical-align: middle;\n",
       "    }\n",
       "\n",
       "    .dataframe tbody tr th {\n",
       "        vertical-align: top;\n",
       "    }\n",
       "\n",
       "    .dataframe thead th {\n",
       "        text-align: right;\n",
       "    }\n",
       "</style>\n",
       "<table border=\"1\" class=\"dataframe\">\n",
       "  <thead>\n",
       "    <tr style=\"text-align: right;\">\n",
       "      <th></th>\n",
       "      <th>age</th>\n",
       "      <th>annual_income</th>\n",
       "      <th>spending_score</th>\n",
       "      <th>group</th>\n",
       "    </tr>\n",
       "  </thead>\n",
       "  <tbody>\n",
       "    <tr>\n",
       "      <th>count</th>\n",
       "      <td>0.0</td>\n",
       "      <td>0.0</td>\n",
       "      <td>0.0</td>\n",
       "      <td>0.0</td>\n",
       "    </tr>\n",
       "    <tr>\n",
       "      <th>mean</th>\n",
       "      <td>NaN</td>\n",
       "      <td>NaN</td>\n",
       "      <td>NaN</td>\n",
       "      <td>NaN</td>\n",
       "    </tr>\n",
       "    <tr>\n",
       "      <th>std</th>\n",
       "      <td>NaN</td>\n",
       "      <td>NaN</td>\n",
       "      <td>NaN</td>\n",
       "      <td>NaN</td>\n",
       "    </tr>\n",
       "    <tr>\n",
       "      <th>min</th>\n",
       "      <td>NaN</td>\n",
       "      <td>NaN</td>\n",
       "      <td>NaN</td>\n",
       "      <td>NaN</td>\n",
       "    </tr>\n",
       "    <tr>\n",
       "      <th>25%</th>\n",
       "      <td>NaN</td>\n",
       "      <td>NaN</td>\n",
       "      <td>NaN</td>\n",
       "      <td>NaN</td>\n",
       "    </tr>\n",
       "    <tr>\n",
       "      <th>50%</th>\n",
       "      <td>NaN</td>\n",
       "      <td>NaN</td>\n",
       "      <td>NaN</td>\n",
       "      <td>NaN</td>\n",
       "    </tr>\n",
       "    <tr>\n",
       "      <th>75%</th>\n",
       "      <td>NaN</td>\n",
       "      <td>NaN</td>\n",
       "      <td>NaN</td>\n",
       "      <td>NaN</td>\n",
       "    </tr>\n",
       "    <tr>\n",
       "      <th>max</th>\n",
       "      <td>NaN</td>\n",
       "      <td>NaN</td>\n",
       "      <td>NaN</td>\n",
       "      <td>NaN</td>\n",
       "    </tr>\n",
       "  </tbody>\n",
       "</table>\n",
       "</div>"
      ],
      "text/plain": [
       "       age  annual_income  spending_score  group\n",
       "count  0.0            0.0             0.0    0.0\n",
       "mean   NaN            NaN             NaN    NaN\n",
       "std    NaN            NaN             NaN    NaN\n",
       "min    NaN            NaN             NaN    NaN\n",
       "25%    NaN            NaN             NaN    NaN\n",
       "50%    NaN            NaN             NaN    NaN\n",
       "75%    NaN            NaN             NaN    NaN\n",
       "max    NaN            NaN             NaN    NaN"
      ]
     },
     "execution_count": 20,
     "metadata": {},
     "output_type": "execute_result"
    }
   ],
   "source": [
    "data[data['group'] == 4].describe()"
   ]
  },
  {
   "cell_type": "markdown",
   "metadata": {},
   "source": [
    "* $\\textit{Media }(\\text{age, annual_income, spending_score}) = [46.25,26.75,18.35]$ resulta ser el centroide del grupo 4\n",
    "* $\\textit{std }(\\text{age, annual_income, spending_score}) = [11.57,7.31,11.93]$ con lo cual podemos pensar que es un grupo en general compacto y simetrico en los ejes de edad y score de gasto.\n",
    "* $\\textit{count}(\\text{group}_4) = 20$ con lo cual vemos que es el grupo con menor población."
   ]
  }
 ],
 "metadata": {
  "kernelspec": {
   "display_name": "itam_md",
   "language": "python",
   "name": "itam_md"
  },
  "language_info": {
   "codemirror_mode": {
    "name": "ipython",
    "version": 3
   },
   "file_extension": ".py",
   "mimetype": "text/x-python",
   "name": "python",
   "nbconvert_exporter": "python",
   "pygments_lexer": "ipython3",
   "version": "3.7.4"
  }
 },
 "nbformat": 4,
 "nbformat_minor": 2
}
